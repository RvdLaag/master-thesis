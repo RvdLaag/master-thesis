{
 "cells": [
  {
   "cell_type": "code",
   "execution_count": null,
   "metadata": {
    "metadata": {}
   },
   "outputs": [],
   "source": [
    "import sys\n",
    "import os\n",
    "# Add the root directory of your project to sys.path\n",
    "sys.path.append(os.path.abspath(os.path.join(os.path.dirname(''), '..')))\n",
    "\n",
    "\n",
    "# External packages\n",
    "import matplotlib.pyplot as plt\n",
    "import numpy as np\n",
    "import scipy.stats\n",
    "import torch\n",
    "from torch.utils.data import DataLoader\n",
    "from functools import partial\n",
    "import IPython.display\n",
    "from importlib import reload\n",
    "\n",
    "\n",
    "# Internal packages\n",
    "from src.data.processing import CMAPSS_dataset\n",
    "from src.models.forecast_model import TruncNormNetwork\n",
    "from src.models.rl_agent import DQNAgent\n",
    "from src.models.rl_network import Network as RLNet\n",
    "from src.training.loss_functions import CRPS_truncnorm_int\n",
    "from src.utils.environment import ForecastEnv\n",
    "from src.utils.replaybuffer import ReplayBuffer\n",
    "from src.utils.epsgreed_funcs import eps_decay\n",
    "import src.tests.rl_tests\n",
    "from src.training.loss_functions import _lognorm_cdf\n",
    "from src.tests.rl_tests import rl_test_engine, rl_test_grid\n",
    "from src.tests.forecast_tests import forecast_test_testset, forecast_test_valengine\n",
    "\n",
    "\n",
    "# Import scripts\n",
    "from scripts.process_data import process_data\n",
    "from scripts.run_forecast_training import train_forecast, train_forecast_bm\n",
    "from scripts.run_rl_training import train_rl"
   ]
  },
  {
   "cell_type": "code",
   "execution_count": null,
   "metadata": {
    "metadata": {}
   },
   "outputs": [],
   "source": [
    "device = torch.device(\"cuda:0\" if torch.cuda.is_available() else \"cpu\")"
   ]
  },
  {
   "cell_type": "markdown",
   "metadata": {},
   "source": [
    "Data set parameters"
   ]
  },
  {
   "cell_type": "code",
   "execution_count": null,
   "metadata": {
    "metadata": {}
   },
   "outputs": [],
   "source": [
    "dataset = 4 # FD00i\n",
    "dataset_name = f'FD00{dataset}'\n",
    "window_size = [31, 21, 38, 19] # size of the sliding window\n",
    "upper_RUL = 128 #128 # max value for piecewise RUL"
   ]
  },
  {
   "cell_type": "code",
   "execution_count": null,
   "metadata": {
    "metadata": {}
   },
   "outputs": [],
   "source": [
    "# process the data sets according to the above parameters\n",
    "process_data(window_size, upper_RUL)"
   ]
  },
  {
   "cell_type": "markdown",
   "metadata": {},
   "source": [
    "Forecasting and Scheduling model parameters"
   ]
  },
  {
   "cell_type": "code",
   "execution_count": null,
   "metadata": {
    "metadata": {}
   },
   "outputs": [],
   "source": [
    "run_id = '-MainRun-'+dataset_name # Run ID for save paths\n",
    "\n",
    "forecast_data_fraction = 0.7\n",
    "rl_data_fraction = 0.2\n",
    "test_data_fraction = 0.1\n",
    "\n",
    "Forecast_parameters = {\n",
    "    'num_epochs': 50,\n",
    "    'batch_size': 128,\n",
    "    'learning_rate': 1e-3,\n",
    "    'hidden_dim': 64,\n",
    "    'dropout': 0.2,\n",
    "    'num_lstms': 1,\n",
    "    'std_max': 0.5,\n",
    "    'val_fraction': 0.03,\n",
    "    'lambd': 0.,\n",
    "}\n",
    "\n",
    "RL_parameters = {\n",
    "    'n_actions': 3,\n",
    "    'planning_window': 10,\n",
    "    'n_obs': (10,),# or equal to planning_window ?\n",
    "    'num_frames': 40000,#48000,#46_000, #24000,#24000,#42_000,\n",
    "    'memory_size': 5000,#2000,\n",
    "    'batch_size': 64,\n",
    "    'target_update': 200,#150,\n",
    "    'epsilon_func': eps_decay('exp', decay=1/7000),#eps_decay('exp', decay=1/6000),#eps_decay('lin', decay=1/6000, bumprate=12000), # eps_decay('exp', decay=1/2000, bumprate=12000), #,\n",
    "    'vmin': -80,\n",
    "    'vmax': 1,\n",
    "    'atom_size': 20,\n",
    "    #'cvar_alpha': 1,\n",
    "    'window_size': window_size[dataset-1] # -1 if bm otherwise window_size\n",
    "}\n"
   ]
  },
  {
   "cell_type": "code",
   "execution_count": null,
   "metadata": {
    "metadata": {}
   },
   "outputs": [],
   "source": [
    "# Set random seeds for data split\n",
    "RANDOMSEED = 19960417#1996417#1741996 #19960417\n",
    "torch.manual_seed(RANDOMSEED)\n",
    "np.random.seed(RANDOMSEED)"
   ]
  },
  {
   "cell_type": "code",
   "execution_count": null,
   "metadata": {
    "metadata": {}
   },
   "outputs": [],
   "source": [
    "# Construct dataloaders for training\n",
    "traindata = torch.load(f'../data/processed/trainset{dataset_name}_w{window_size[dataset-1]}_M{upper_RUL}.pt')\n",
    "use_engines, rl_engines, test_engines = torch.utils.data.random_split(traindata.engineid.unique(), [forecast_data_fraction, rl_data_fraction, test_data_fraction])\n",
    "\n",
    "torch.save(rl_engines.dataset[rl_engines.indices], f'../data/used/rl_engines_{dataset}{run_id}.pt')\n",
    "\n",
    "train_engines, val_engines = torch.utils.data.random_split(use_engines, [1-Forecast_parameters['val_fraction'], Forecast_parameters['val_fraction']])\n",
    "\n",
    "train_set = torch.utils.data.Subset(traindata, np.where(np.in1d(traindata.engineid, train_engines.dataset[train_engines.indices]))[0])\n",
    "val_set = torch.utils.data.Subset(traindata, np.where(np.in1d(traindata.engineid, val_engines.dataset[val_engines.indices]))[0])\n",
    "\n",
    "forecast_dataloaders = {\n",
    "'train': DataLoader(train_set, batch_size=Forecast_parameters['batch_size'], shuffle=True, num_workers=0),\n",
    "'val': DataLoader(val_set, batch_size=Forecast_parameters['batch_size'], shuffle=True, num_workers=0)\n",
    "}"
   ]
  },
  {
   "cell_type": "code",
   "execution_count": null,
   "metadata": {
    "metadata": {}
   },
   "outputs": [],
   "source": [
    "val_engines.indices"
   ]
  },
  {
   "cell_type": "code",
   "execution_count": null,
   "metadata": {},
   "outputs": [],
   "source": [
    "len(test_engines.indices)"
   ]
  },
  {
   "cell_type": "code",
   "execution_count": null,
   "metadata": {
    "metadata": {}
   },
   "outputs": [],
   "source": [
    "# Reset random seeds for training model 1\n",
    "torch.manual_seed(RANDOMSEED)\n",
    "np.random.seed(RANDOMSEED)\n",
    "fmodel, flosses, foptim, _ = train_forecast_bm(dataset_name, run_id,**Forecast_parameters, \n",
    "                                                train_fraction=forecast_data_fraction,\n",
    "                                                upper_RUL=upper_RUL,\n",
    "                                                window_size=window_size[dataset-1], \n",
    "                                                dataloaders=forecast_dataloaders)"
   ]
  },
  {
   "cell_type": "code",
   "execution_count": null,
   "metadata": {
    "metadata": {}
   },
   "outputs": [],
   "source": [
    "# Reset random seeds for training model 1\n",
    "torch.manual_seed(RANDOMSEED)\n",
    "np.random.seed(RANDOMSEED)\n",
    "wfmodel, wflosses, wfoptim, _ = train_forecast_bm(dataset_name, run_id,**Forecast_parameters, \n",
    "                                                    train_fraction=forecast_data_fraction,\n",
    "                                                    upper_RUL=upper_RUL,\n",
    "                                                    window_size=window_size[dataset-1], \n",
    "                                                    dataloaders=forecast_dataloaders,\n",
    "                                                    crpsweight=50)\n",
    "    "
   ]
  },
  {
   "cell_type": "code",
   "execution_count": null,
   "metadata": {
    "metadata": {}
   },
   "outputs": [],
   "source": [
    "fig, (ax, wax) = plt.subplots(1,2, figsize=(10,4), layout='tight')\n",
    "ax.plot(np.arange(Forecast_parameters['num_epochs'])+1, np.asarray(flosses['train'])[:,0], zorder=2, label='Training')\n",
    "ax.plot(np.arange(Forecast_parameters['num_epochs'])+1, np.asarray(flosses['val'])[:,0], zorder=3, label='Validation')\n",
    "ax.grid(zorder=1)\n",
    "ax.set_ylabel('Loss')\n",
    "ax.set_xlabel('Epoch')\n",
    "ax.set_title('Risk-Neutral Forecast')\n",
    "ax.legend()\n",
    "\n",
    "wax.plot(np.arange(Forecast_parameters['num_epochs'])+1, np.asarray(wflosses['train'])[:,0], zorder=2, label='Training')\n",
    "wax.plot(np.arange(Forecast_parameters['num_epochs'])+1, np.asarray(wflosses['val'])[:,0], zorder=3, label='Validation')\n",
    "wax.grid(zorder=1)\n",
    "wax.set_ylabel('Loss')\n",
    "wax.set_xlabel('Epoch')\n",
    "wax.set_title('Risk-Averse Forecast')\n",
    "wax.legend()\n",
    "\n",
    "plt.show()"
   ]
  },
  {
   "cell_type": "markdown",
   "metadata": {},
   "source": [
    "Save the forecast models"
   ]
  },
  {
   "cell_type": "code",
   "execution_count": null,
   "metadata": {
    "metadata": {}
   },
   "outputs": [],
   "source": [
    "try:\n",
    "    os.mkdir(f'../results/models/models{run_id}')\n",
    "except FileExistsError:\n",
    "    pass\n",
    "\n",
    "torch.save({'model': fmodel, 'dataloader': forecast_dataloaders}, f'../results/models/models{run_id}/forecastmodel.pt')\n",
    "torch.save({'model': wfmodel, 'dataloader': forecast_dataloaders}, f'../results/models/models{run_id}/w_forecastmodel.pt')"
   ]
  },
  {
   "cell_type": "code",
   "execution_count": null,
   "metadata": {
    "metadata": {}
   },
   "outputs": [],
   "source": [
    "# Load them for evaluation\n",
    "fmodel = torch.load(f'../results/models/models{run_id}/forecastmodel.pt')['model']\n",
    "wfmodel = torch.load(f'../results/models/models{run_id}/w_forecastmodel.pt')['model']\n",
    "forecast_dataloaders = torch.load(f'../results/models/models{run_id}/forecastmodel.pt')['dataloader']\n",
    "\n",
    "fmodel.eval()\n",
    "wfmodel.eval()"
   ]
  },
  {
   "cell_type": "code",
   "execution_count": null,
   "metadata": {
    "metadata": {}
   },
   "outputs": [],
   "source": [
    "forecast_val_engines_ids = np.unique([forecast_dataloaders['val'].dataset.__getitem__(i)[3] for i in range(len(forecast_dataloaders['val'].dataset))])\n",
    "forecast_val_engines_ids"
   ]
  },
  {
   "cell_type": "code",
   "execution_count": null,
   "metadata": {
    "metadata": {}
   },
   "outputs": [],
   "source": [
    "for val_engine in forecast_val_engines_ids:\n",
    "    forecast_test_valengine(fmodel, val_engine, forecast_dataloaders['val'].dataset.dataset)"
   ]
  },
  {
   "cell_type": "code",
   "execution_count": null,
   "metadata": {
    "metadata": {}
   },
   "outputs": [],
   "source": [
    "for val_engine in forecast_val_engines_ids:\n",
    "    forecast_test_valengine(wfmodel, val_engine, forecast_dataloaders['val'].dataset.dataset)"
   ]
  },
  {
   "cell_type": "markdown",
   "metadata": {},
   "source": [
    "Test models using dedicated test set"
   ]
  },
  {
   "cell_type": "code",
   "execution_count": null,
   "metadata": {
    "metadata": {}
   },
   "outputs": [],
   "source": [
    "test_dataset = torch.load(f'../data/processed/testsetFD00{dataset}_w{window_size[dataset-1]}_M{upper_RUL}.pt')"
   ]
  },
  {
   "cell_type": "code",
   "execution_count": null,
   "metadata": {
    "metadata": {}
   },
   "outputs": [],
   "source": [
    "try:\n",
    "    os.mkdir(f'../results/figures/testimg{run_id}-normal')\n",
    "except FileExistsError:\n",
    "    pass\n",
    "try:\n",
    "    os.mkdir(f'../results/figures/testimg{run_id}-weighted')\n",
    "except FileExistsError:\n",
    "    pass\n",
    "f'../results/figures/testimg{run_id}-normal'"
   ]
  },
  {
   "cell_type": "code",
   "execution_count": null,
   "metadata": {
    "metadata": {}
   },
   "outputs": [],
   "source": [
    "forecast_testmetrics, forecast_testforecasts = forecast_test_testset(fmodel, test_dataset, to_plot=1, savepath=f'../results/figures/testimg{run_id}-normal')"
   ]
  },
  {
   "cell_type": "code",
   "execution_count": null,
   "metadata": {
    "metadata": {}
   },
   "outputs": [],
   "source": [
    "wforecast_testmetrics, wforecast_testforecasts = forecast_test_testset(wfmodel, test_dataset, to_plot=1, savepath=f'../results/figures/testimg{run_id}-weighted')"
   ]
  },
  {
   "cell_type": "code",
   "execution_count": null,
   "metadata": {
    "metadata": {}
   },
   "outputs": [],
   "source": [
    "fig, ax = plt.subplots(layout='tight', figsize=(20,6))\n",
    "lows, ups = scipy.stats.lognorm.interval(0.95, s=forecast_testforecasts[2], scale=np.exp(forecast_testforecasts[1]))\n",
    "ax.errorbar(np.arange(1,len(forecast_testforecasts[0])+1)-.2, np.exp(np.array(forecast_testforecasts[1]) + 0.5*np.array(forecast_testforecasts[2])**2), yerr=np.array([np.abs(np.exp(np.array(forecast_testforecasts[1]) + 0.5*np.array(forecast_testforecasts[2])**2)-lows),np.abs(ups-np.exp(np.array(forecast_testforecasts[1]) + 0.5*np.array(forecast_testforecasts[2])**2))]), capsize=2, fmt='o', color='tab:blue', zorder=2, label='Risk Neutral 95% CI')\n",
    "lows, ups = scipy.stats.lognorm.interval(0.95, s=wforecast_testforecasts[2], scale=np.exp(wforecast_testforecasts[1]))\n",
    "ax.errorbar(np.arange(1,len(wforecast_testforecasts[0])+1)+.2, np.exp(np.array(wforecast_testforecasts[1]) + 0.5*np.array(wforecast_testforecasts[2])**2), yerr=np.array([np.abs(np.exp(np.array(wforecast_testforecasts[1]) + 0.5*np.array(wforecast_testforecasts[2])**2)-lows),np.abs(ups-np.exp(np.array(wforecast_testforecasts[1]) + 0.5*np.array(wforecast_testforecasts[2])**2))]), capsize=2, fmt='o', color='tab:orange', zorder=2, label='Risk Averse 95% CI')\n",
    "ax.scatter(np.arange(1,len(wforecast_testforecasts[0])+1), wforecast_testforecasts[0], color='tab:green', marker='X', zorder=3, label='True RUL', edgecolor='k',s=60)\n",
    "ax.grid(zorder=-1)\n",
    "ax.set_xlim(0,len(forecast_testforecasts[0])+1)\n",
    "ax.set_ylabel('RUL')\n",
    "ax.set_xlabel('Test engine ID')\n",
    "ax.legend()\n",
    "plt.savefig(f'../results/figures/testimg{run_id}-normal/alltestengines.png', facecolor='white', bbox_inches='tight')\n",
    "plt.show()"
   ]
  },
  {
   "cell_type": "code",
   "execution_count": null,
   "metadata": {
    "metadata": {}
   },
   "outputs": [],
   "source": [
    "fig, (ax, wax) = plt.subplots(2, sharex=True, figsize=(10, 6))\n",
    "cdfvals = scipy.stats.norm.cdf((np.log(np.array(forecast_testforecasts[0])[:,0])-np.array(forecast_testforecasts[1]))/np.array(forecast_testforecasts[2]))\n",
    "ax.bar(np.arange(1,len(forecast_testforecasts[0])+1), cdfvals, label='$\\mathrm{Pr}(F(X)\\leq \\mathrm{RUL})$\\n(underestimation)')\n",
    "ax.bar(np.arange(1,len(forecast_testforecasts[0])+1), 1-cdfvals, bottom=cdfvals, color='tab:orange', label='$\\mathrm{Pr}(F(X) > \\mathrm{RUL})$\\n(overestimation)')\n",
    "ax.set_ylabel('Probability')\n",
    "ax.set_title('Risk-Neutral Forecast')\n",
    "\n",
    "wcdfvals = scipy.stats.norm.cdf((np.log(np.array(wforecast_testforecasts[0])[:,0])-np.array(wforecast_testforecasts[1]))/np.array(wforecast_testforecasts[2]))\n",
    "wax.bar(np.arange(1,len(wforecast_testforecasts[0])+1), wcdfvals, label='$\\mathrm{Pr}(F(X)\\leq \\mathrm{RUL})$')\n",
    "wax.bar(np.arange(1,len(wforecast_testforecasts[0])+1), 1-wcdfvals, bottom=wcdfvals, color='tab:orange', label='$\\mathrm{Pr}(F(X) > \\mathrm{RUL})$')\n",
    "wax.set_ylabel('Probability')\n",
    "wax.set_xlabel('Test engine ID')\n",
    "wax.set_title('Risk-Averse Forecast')\n",
    "\n",
    "ax.legend(ncol=1, loc='upper left', bbox_to_anchor=(1, .1))\n",
    "plt.show()\n",
    "\n",
    "print('Risk\\t|\\tunder\\t|\\tover')\n",
    "print(f'Neutral\\t|\\t{cdfvals.sum()/len(cdfvals)*100:.2f}\\t|\\t{np.sum(1-cdfvals)/len(cdfvals)*100:.2f}')\n",
    "print(f'Averse\\t|\\t{wcdfvals.sum()/len(wcdfvals)*100:.2f}\\t|\\t{np.sum(1-wcdfvals)/len(wcdfvals)*100:.2f}')"
   ]
  },
  {
   "cell_type": "code",
   "execution_count": null,
   "metadata": {
    "metadata": {}
   },
   "outputs": [],
   "source": [
    "fig, ax = plt.subplots(len(forecast_testmetrics.keys()), sharex=True, layout='constrained', figsize=(6,10))\n",
    "for i, key in enumerate(forecast_testmetrics.keys()):\n",
    "    ax[i].scatter(range(1,len(forecast_testmetrics[key])+1), forecast_testmetrics[key], color='k', marker='.', zorder=2)\n",
    "    ax[i].set_ylabel(key)\n",
    "    ax[i].grid(zorder=-1)\n",
    "ax[-1].set_xlabel('')\n",
    "plt.show()\n",
    "\n",
    "fig, ax = plt.subplots(len(wforecast_testmetrics.keys()), sharex=True, layout='constrained', figsize=(6,10))\n",
    "for i, key in enumerate(wforecast_testmetrics.keys()):\n",
    "    ax[i].scatter(range(1,len(wforecast_testmetrics[key])+1), wforecast_testmetrics[key], color='k', marker='.', zorder=2)\n",
    "    ax[i].set_ylabel(key)\n",
    "    ax[i].grid(zorder=-1)\n",
    "ax[-1].set_xlabel('')\n",
    "plt.show()"
   ]
  },
  {
   "cell_type": "code",
   "execution_count": null,
   "metadata": {
    "metadata": {}
   },
   "outputs": [],
   "source": [
    "print('\\t\\tRisk-Neutral\\tRisk-Averse')\n",
    "for key in forecast_testmetrics.keys():\n",
    "    if \"median\" in key:\n",
    "        print(f'{key}:\\t{np.mean(forecast_testmetrics[key]) if not (\"SF\" in key) else np.sum(forecast_testmetrics[key]):.2f}'+\n",
    "              f'\\t\\t{np.mean(wforecast_testmetrics[key]) if not (\"SF\" in key) else np.sum(wforecast_testmetrics[key]):.2f}')\n",
    "    else:\n",
    "        print(f'{key}:\\t\\t{np.mean(forecast_testmetrics[key]) if not (\"SF\" in key) else np.sum(forecast_testmetrics[key]):.2f}'+\n",
    "              f'\\t\\t{np.mean(wforecast_testmetrics[key]) if not (\"SF\" in key) else np.sum(wforecast_testmetrics[key]):.2f}')"
   ]
  },
  {
   "cell_type": "code",
   "execution_count": null,
   "metadata": {
    "metadata": {}
   },
   "outputs": [],
   "source": [
    "import src.tests.forecast_tests\n",
    "reload(src.tests.forecast_tests)"
   ]
  },
  {
   "cell_type": "code",
   "execution_count": null,
   "metadata": {
    "metadata": {}
   },
   "outputs": [],
   "source": [
    "from src.tests.forecast_tests import calibration_tests"
   ]
  },
  {
   "cell_type": "code",
   "execution_count": null,
   "metadata": {
    "metadata": {}
   },
   "outputs": [],
   "source": [
    "quantiles, empcdf, xs, Fbar, Gbar, PIT_vals, PIT_ruls = calibration_tests(fmodel, test_dataset, device)"
   ]
  },
  {
   "cell_type": "code",
   "execution_count": null,
   "metadata": {
    "metadata": {}
   },
   "outputs": [],
   "source": [
    "quantiles, wempcdf, xs, wFbar, wGbar, wPIT_vals, wPIT_ruls = calibration_tests(wfmodel, test_dataset, device)"
   ]
  },
  {
   "cell_type": "code",
   "execution_count": null,
   "metadata": {
    "metadata": {}
   },
   "outputs": [],
   "source": [
    "fig, ax = plt.subplots()\n",
    "ax.plot(quantiles, empcdf, marker='o', linestyle='--')\n",
    "ax.plot(quantiles, wempcdf, marker='o', linestyle='--')\n",
    "ax.plot(quantiles, quantiles, color='k', linestyle=':')\n",
    "ax.grid()\n",
    "ax.set_aspect('equal', 'box')\n",
    "ax.set_xlabel('Estimated CDF')\n",
    "ax.set_ylabel('Empirical CDF')\n",
    "plt.savefig(f'../results/figures/testimg{run_id}-normal/margcal.png', facecolor='white', bbox_inches='tight')\n",
    "plt.show()"
   ]
  },
  {
   "cell_type": "code",
   "execution_count": null,
   "metadata": {
    "metadata": {}
   },
   "outputs": [],
   "source": [
    "fig, ax = plt.subplots()\n",
    "ax.plot(xs, Fbar-Gbar)\n",
    "ax.plot(xs, wFbar-wGbar)\n",
    "#ax.plot(xs, Gbar)\n",
    "ax.grid()\n",
    "ax.set_xlabel('RUL')\n",
    "ax.set_ylabel(r'$\\overline{F}(x)-\\overline{G}(x)$')\n",
    "ax.set_box_aspect(1)\n",
    "plt.savefig(f'../results/figures/testimg{run_id}-normal/probcal.png', facecolor='white', bbox_inches='tight')\n",
    "plt.show()"
   ]
  },
  {
   "cell_type": "code",
   "execution_count": null,
   "metadata": {
    "metadata": {}
   },
   "outputs": [],
   "source": [
    "fig, (ax, axw) = plt.subplots(2, sharex=True)\n",
    "ax.hist(PIT_vals, 10, density=True, zorder=2, edgecolor='black', alpha=0.8)\n",
    "axw.hist(wPIT_vals, 10, density=True, color='tab:orange', zorder=2, edgecolor='black', alpha=0.8)\n",
    "ax.set_title(f'Var(PIT)$={np.var(PIT_vals):.5f}\\\\approx\\\\frac{{1}}{{{1/np.var(PIT_vals):.2f}}}$')\n",
    "axw.set_title(f'Var(PIT)$={np.var(wPIT_vals):.5f}\\\\approx\\\\frac{{1}}{{{1/np.var(wPIT_vals):.2f}}}$')\n",
    "ax.plot([0,0,1,1],[0,1,1,0], color='black', zorder=3, linewidth=3)\n",
    "axw.plot([0,0,1,1],[0,1,1,0], color='black', zorder=3, linewidth=3)\n",
    "\n",
    "ax.grid(zorder=1)\n",
    "axw.grid(zorder=1)\n",
    "axw.set_xlabel('PIT')\n",
    "ax.set_ylabel('Density')\n",
    "axw.set_ylabel('Density')\n",
    "plt.savefig(f'../results/figures/testimg{run_id}-normal/PITdiagram.png', facecolor='white', bbox_inches='tight')\n",
    "plt.show()"
   ]
  },
  {
   "cell_type": "code",
   "execution_count": null,
   "metadata": {},
   "outputs": [],
   "source": [
    "%matplotlib inline"
   ]
  },
  {
   "cell_type": "markdown",
   "metadata": {},
   "source": [
    "Distributional Reinforcement Learning for Maintenance Scheduling"
   ]
  },
  {
   "cell_type": "code",
   "execution_count": null,
   "metadata": {
    "metadata": {}
   },
   "outputs": [],
   "source": [
    "rl_agent = train_rl(fmodel, traindata, rl_engines, val_engines,\n",
    "                    seed=RANDOMSEED, # TODO: set up seeding @ top of notebook\n",
    "                    **RL_parameters, plot_interval=200, cf=8, c0=4, c1=.35)"
   ]
  },
  {
   "cell_type": "code",
   "execution_count": null,
   "metadata": {
    "metadata": {}
   },
   "outputs": [],
   "source": [
    "w_rl_agent = train_rl(wfmodel, traindata, rl_engines, val_engines,\n",
    "                    seed=RANDOMSEED, # TODO: set up seeding @ top of notebook\n",
    "                    **RL_parameters, plot_interval=200, cf=8, c0=4, c1=.35)"
   ]
  },
  {
   "cell_type": "code",
   "execution_count": null,
   "metadata": {
    "metadata": {}
   },
   "outputs": [],
   "source": [
    "rl_agent_cvar = train_rl(fmodel, traindata, rl_engines, val_engines,\n",
    "                    seed=RANDOMSEED, # TODO: set up seeding @ top of notebook\n",
    "                    **RL_parameters, cvar_alpha=0.8, plot_interval=200, cf=8, c0=4, c1=.35)"
   ]
  },
  {
   "cell_type": "code",
   "execution_count": null,
   "metadata": {
    "metadata": {}
   },
   "outputs": [],
   "source": [
    "w_rl_agent_cvar = train_rl(wfmodel, traindata, rl_engines, val_engines,\n",
    "                    seed=RANDOMSEED, # TODO: set up seeding @ top of notebook\n",
    "                    **RL_parameters, cvar_alpha=0.8, plot_interval=200, cf=8, c0=4, c1=.35)"
   ]
  },
  {
   "cell_type": "code",
   "execution_count": null,
   "metadata": {},
   "outputs": [],
   "source": [
    "rl_agent.save(f'../results/models/models{run_id}/rlmodel-neutral-mean.pt')\n",
    "rl_agent_cvar.save(f'../results/models/models{run_id}/rlmodel-neutral-cvar.pt')\n",
    "w_rl_agent.save(f'../results/models/models{run_id}/rlmodel-averse-mean.pt')\n",
    "w_rl_agent_cvar.save(f'../results/models/models{run_id}/rlmodel-averse-cvar.pt')"
   ]
  },
  {
   "cell_type": "code",
   "execution_count": null,
   "metadata": {},
   "outputs": [],
   "source": [
    "def load_rl(loadpath, forecastmodel, dataset, engines, test_engines, seed, n_actions, planning_window, n_obs, num_frames, memory_size, batch_size, target_update, epsilon_func, vmin, vmax, atom_size, window_size, cvar_alpha=1, plot_interval=200, cf=4, c1=0.1, c0=2, cn=0.1):\n",
    "    env = ForecastEnv(n_actions, planning_window,n_obs, forecastmodel, dataset, engines, test_engines, window_size, seed, cf, c1, c0, cn)\n",
    "\n",
    "    agent = DQNAgent(env, memory_size, batch_size, target_update, epsilon_func, seed, v_min=vmin, v_max=vmax, atom_size=atom_size, cvar_alpha=cvar_alpha, load=loadpath)\n",
    "\n",
    "    return agent\n"
   ]
  },
  {
   "cell_type": "code",
   "execution_count": null,
   "metadata": {},
   "outputs": [],
   "source": [
    "rl_agent = load_rl(f'../results/models/models{run_id}/rlmodel-neutral-mean.pt', \n",
    "                   fmodel, traindata, rl_engines, val_engines,\n",
    "                   seed=RANDOMSEED, # TODO: set up seeding @ top of notebook\n",
    "                   **RL_parameters, plot_interval=200, cf=8, c0=4, c1=.35)\n",
    "rl_agent_cvar = load_rl(f'../results/models/models{run_id}/rlmodel-neutral-cvar.pt', \n",
    "                   fmodel, traindata, rl_engines, val_engines,\n",
    "                   seed=RANDOMSEED, # TODO: set up seeding @ top of notebook\n",
    "                   **RL_parameters, plot_interval=200, cf=8, c0=4, c1=.35, cvar_alpha=0.8)\n",
    "w_rl_agent = load_rl(f'../results/models/models{run_id}/rlmodel-averse-mean.pt', \n",
    "                   wfmodel, traindata, rl_engines, val_engines,\n",
    "                   seed=RANDOMSEED, # TODO: set up seeding @ top of notebook\n",
    "                   **RL_parameters, plot_interval=200, cf=8, c0=4, c1=.35)\n",
    "w_rl_agent_cvar = load_rl(f'../results/models/models{run_id}/rlmodel-averse-cvar.pt', \n",
    "                   wfmodel, traindata, rl_engines, val_engines,\n",
    "                   seed=RANDOMSEED, # TODO: set up seeding @ top of notebook\n",
    "                   **RL_parameters, plot_interval=200, cf=8, c0=4, c1=.35, cvar_alpha=0.8)"
   ]
  },
  {
   "cell_type": "code",
   "execution_count": null,
   "metadata": {
    "metadata": {}
   },
   "outputs": [],
   "source": [
    "rl_agent.is_test = True\n",
    "w_rl_agent.is_test = True\n",
    "rl_agent_cvar.is_test = True\n",
    "w_rl_agent_cvar.is_test = True"
   ]
  },
  {
   "cell_type": "code",
   "execution_count": null,
   "metadata": {},
   "outputs": [],
   "source": [
    "try:\n",
    "    os.mkdir(f'../results/figures/RL{run_id}')\n",
    "except FileExistsError:\n",
    "    pass"
   ]
  },
  {
   "cell_type": "code",
   "execution_count": null,
   "metadata": {
    "metadata": {}
   },
   "outputs": [],
   "source": [
    "import matplotlib as mpl\n",
    "def plot_crossover(engineid, ruls, cvars, Pfail, actions, save=True, dset='test', model_type='neutral-mean'):\n",
    "    cmap = mpl.colors.ListedColormap(['k']+list(plt.get_cmap('tab10').colors))\n",
    "    fig, ax = plt.subplots(layout='tight')\n",
    "    #ax.set_xscale('log')\n",
    "    ax2 = ax.twinx()\n",
    "    ax2.plot(Pfail, ruls, color='grey', alpha=0.5, linewidth=10)\n",
    "    ax2.set_ylabel('True RUL')\n",
    "\n",
    "    for i in range(cvars.shape[1]):\n",
    "        ax.plot(Pfail, cvars[:,i], linestyle=':', marker='o', markersize=4, color=cmap(i), label='do nothing' if i==0 else f'replace {i:02d}', zorder=2 if i!=0 else 3)\n",
    "    ax.grid(zorder=1)\n",
    "\n",
    "    ax.set_ylabel('CVaR of action distribution')\n",
    "    ax.set_xlabel(r'$\\mathrm{Pr}(\\mathrm{RUL}\\leq 10)$')\n",
    "    cbar = fig.colorbar(mpl.cm.ScalarMappable(cmap=mpl.colors.ListedColormap(['k']+list(plt.get_cmap('tab10').colors))), \n",
    "                        ax=ax2, ticks=np.arange(0,1,1/11)+1/22, pad=0.12)\n",
    "    cbar.set_ticklabels(['do nothing']+[f'replace {i:02d}' for i in range(1,11)])\n",
    "\n",
    "    ax.set_title(f'Test engine: {engineid}')\n",
    "\n",
    "    replaces = np.where(np.asarray(actions)!=0)[0]\n",
    "    if len(replaces) != 0:\n",
    "        blinex = np.min(Pfail[replaces])\n",
    "        blineytext = ax.get_ylim()[1]*.8\n",
    "        ax.axvline(blinex, color='k', zorder=1)\n",
    "        ax.annotate('do nothing', [blinex, blineytext], ha='right', textcoords='offset points', xytext=(-10,0), zorder=10, weight='bold')\n",
    "        ax.annotate('replace', [blinex, blineytext], ha='left', textcoords='offset points', xytext=(10,0), zorder=10, weight='bold')\n",
    "        arrowlength = (ax.get_xlim()[1]-ax.get_xlim()[0])*.1\n",
    "        ax.arrow(blinex, blineytext*.9, -arrowlength, 0, head_width=.4, head_length=3*1.5*0.001, color='k', zorder=10)\n",
    "        ax.arrow(blinex, blineytext*.9, arrowlength, 0, head_width=.4, head_length=3*1.5*0.001, color='k', zorder=10)\n",
    "\n",
    "        #ax.set_xlim(0, Pfail[replaces[np.argmin(Pfail[replaces])]+2])\n",
    "    #ax.set_xlim(-0.05,0.25)\n",
    "    if save:\n",
    "        try:\n",
    "            os.mkdir(f'../results/figures/RL{dset}img{run_id}-{model_type}')\n",
    "        except FileExistsError:\n",
    "            pass\n",
    "        plt.savefig(f'../results/figures/RL{dset}img{run_id}-{model_type}/RLcrossover{engineid}.png', facecolor='white', bbox_inches='tight')\n",
    "        plt.close(fig)\n",
    "    else:\n",
    "        plt.show()\n",
    "    \n",
    "    if len(replaces) != 0:\n",
    "        return blinex\n",
    "    else:\n",
    "        return None"
   ]
  },
  {
   "cell_type": "code",
   "execution_count": null,
   "metadata": {
    "metadata": {}
   },
   "outputs": [],
   "source": [
    "rl_agent.env.term_phase = False\n",
    "w_rl_agent.env.term_phase = False\n",
    "rl_agent_cvar.env.term_phase = False\n",
    "w_rl_agent_cvar.env.term_phase = False\n",
    "for engineid in range(len(rl_agent.env.test_engines)):\n",
    "    states, statesCDF, ruls, rewards, actions, dists, cvars = rl_agent.test(engineid)\n",
    "    w_states, statesCDF, w_ruls, w_rewards, w_actions, w_dists, w_cvars = w_rl_agent.test(engineid)\n",
    "    states_cv, statesCDF_cv, ruls_cv, rewards_cv, actions_cv, dists_cv, cvars_cv = rl_agent_cvar.test(engineid)\n",
    "    w_states_cv, statesCDF_cv, w_ruls_cv, w_rewards_cv, w_actions_cv, w_dists_cv, w_cvars_cv = w_rl_agent_cvar.test(engineid)\n",
    "\n",
    "    Pfail = _lognorm_cdf(torch.tensor(RL_parameters['n_actions']-1), torch.from_numpy(states[:,-1,0]), torch.from_numpy(states[:,-1,1])).detach().cpu().numpy()\n",
    "    w_Pfail = _lognorm_cdf(torch.tensor(RL_parameters['n_actions']-1), torch.from_numpy(w_states[:,-1,0]), torch.from_numpy(w_states[:,-1,1])).detach().cpu().numpy()\n",
    "    Pfail_cv = _lognorm_cdf(torch.tensor(RL_parameters['n_actions']-1), torch.from_numpy(states_cv[:,-1,0]), torch.from_numpy(states_cv[:,-1,1])).detach().cpu().numpy()\n",
    "    w_Pfail_cv = _lognorm_cdf(torch.tensor(RL_parameters['n_actions']-1), torch.from_numpy(w_states_cv[:,-1,0]), torch.from_numpy(w_states_cv[:,-1,1])).detach().cpu().numpy()\n",
    "\n",
    "    plot_crossover(engineid, ruls, np.asarray(cvars), Pfail, actions, save=False)\n",
    "    plot_crossover(engineid, w_ruls, np.asarray(w_cvars), w_Pfail, w_actions, save=False)\n",
    "    plot_crossover(engineid, ruls_cv, np.asarray(cvars_cv), Pfail_cv, actions_cv, save=False)\n",
    "    plot_crossover(engineid, w_ruls_cv, np.asarray(w_cvars_cv), w_Pfail_cv, w_actions_cv, save=False)\n",
    "    "
   ]
  },
  {
   "cell_type": "code",
   "execution_count": null,
   "metadata": {
    "metadata": {}
   },
   "outputs": [],
   "source": [
    "test_ids = test_engines.dataset[test_engines.indices]\n",
    "test_ids"
   ]
  },
  {
   "cell_type": "code",
   "execution_count": null,
   "metadata": {
    "metadata": {}
   },
   "outputs": [],
   "source": [
    "def run_test_engine(model: DQNAgent, idx:int, term: bool = True):\n",
    "    model.is_test = True\n",
    "    model.env.term_phase = False\n",
    "\n",
    "    cur_data, model.env.cur_rul, _, _ = model.env.dataset.get_unit_by_id(idx)\n",
    "    cur_data = cur_data.float().to(model.env.device)\n",
    "    with torch.no_grad():\n",
    "        pre_states = torch.cat(model.env.model(cur_data[:,model.env.dataoffset:]),dim=-1)\n",
    "        model.env.states = model.env._transform_states(pre_states)\n",
    "    model.env.t = 0\n",
    "    model.env.terminal = 0\n",
    "\n",
    "    state = model.env.states[0].to(model.device)\n",
    "    actions, dists, cvars, rewards = [], [], [], []\n",
    "    done = False\n",
    "    final_rul = 0\n",
    "    with torch.no_grad():\n",
    "        while not done:\n",
    "            eval = model.dqn(state)\n",
    "            action = eval.argmax(1).cpu().numpy()[0]\n",
    "            actions.append(action)\n",
    "            cvar = eval.detach().cpu().numpy()[0]\n",
    "            cvars.append(cvar)\n",
    "            dist = model.dqn.dist(state).cpu().numpy()[0]\n",
    "            dists.append(dist)\n",
    "\n",
    "            state, reward, done = model.step(action)\n",
    "            rewards.append(reward)\n",
    "            if state is not None:\n",
    "                state = torch.FloatTensor(state).to(model.device)\n",
    "            if action != 0 and final_rul == 0:\n",
    "                final_rul = model.env.cur_rul[model.env.t].numpy()\n",
    "                #break\n",
    "    \n",
    "    actions = np.asarray(actions)\n",
    "    dists = np.asarray(dists)\n",
    "    cvars = np.asarray(cvars)\n",
    "    rewards = np.asarray(rewards)\n",
    "\n",
    "    try:\n",
    "        #final_rul = model.env.cur_rul[model.env.t].numpy()\n",
    "        ruls = model.env.cur_rul[:model.env.t].numpy()\n",
    "    except IndexError:\n",
    "        #final_rul = 0\n",
    "        ruls = model.env.cur_rul.numpy()\n",
    "\n",
    "    return final_rul, actions, rewards, dists, cvars, ruls, model.env.states, pre_states"
   ]
  },
  {
   "cell_type": "code",
   "execution_count": null,
   "metadata": {
    "metadata": {}
   },
   "outputs": [],
   "source": [
    "model_dict = {'neutral-mean': rl_agent,\n",
    "              'neutral-cvar': rl_agent_cvar,\n",
    "              'averse-mean': w_rl_agent,\n",
    "              'averse-cvar': w_rl_agent_cvar}\n",
    "model_labels = model_dict.keys() # ['neutral-mean', 'neutral-cvar', 'averse-mean', 'averse-cvar']\n",
    "metrics = {label: {'final ruls': [],\n",
    "                   'actions': [],\n",
    "                   'rewards': [],\n",
    "                   'dists': [],\n",
    "                   'cvars': [],\n",
    "                   'crossp': [],\n",
    "                   'pfails': [],\n",
    "                   'termidx': [],\n",
    "                   'states': []} \n",
    "                   for label in model_labels}\n",
    "\n",
    "opt_rewards = []\n",
    "for label in model_labels:\n",
    "    for idx in test_engines.dataset[test_engines.indices]:\n",
    "        final_rul, actions, rewards, dists, cvars, ruls, statesCDF, states = run_test_engine(model_dict[label], idx)\n",
    "        if label == list(model_labels)[0]:\n",
    "            opt_rewards.append((ruls[0]-RL_parameters['planning_window'])*0.1 - (4-RL_parameters['planning_window']*0.35))\n",
    "        try:\n",
    "            term_idx = np.where(actions != 0)[0][0]+1\n",
    "        except IndexError:\n",
    "            term_idx = None\n",
    "        Pfail = _lognorm_cdf(torch.tensor(RL_parameters['planning_window']), states[:,-1,0], states[:,-1,1]).detach().cpu().numpy()\n",
    "        crossp = plot_crossover(idx, ruls[:term_idx], cvars[:term_idx], Pfail[:term_idx], actions[:term_idx], dset='test', model_type=label, save=True)\n",
    "\n",
    "        metrics[label]['final ruls'].append(final_rul)\n",
    "        metrics[label]['actions'].append(actions)\n",
    "        metrics[label]['rewards'].append(rewards)\n",
    "        metrics[label]['dists'].append(dists)\n",
    "        metrics[label]['cvars'].append(cvars)\n",
    "        metrics[label]['crossp'].append(crossp)\n",
    "        metrics[label]['pfails'].append(Pfail)\n",
    "        metrics[label]['termidx'].append(term_idx)\n",
    "        metrics[label]['states'].append(states[:,-1].cpu().numpy())\n",
    "\n",
    "    "
   ]
  },
  {
   "cell_type": "code",
   "execution_count": null,
   "metadata": {
    "metadata": {}
   },
   "outputs": [],
   "source": [
    "for label in model_labels:\n",
    "    for key in metrics[label].keys():\n",
    "        metrics[label][key] = np.asarray(metrics[label][key])"
   ]
  },
  {
   "cell_type": "code",
   "execution_count": null,
   "metadata": {},
   "outputs": [],
   "source": [
    "import matplotlib.lines\n",
    "import matplotlib.patheffects\n",
    "import matplotlib.colors\n",
    "handles = [matplotlib.lines.Line2D([0],[0], color='k', label='Forecast 95% CI',path_effects=[matplotlib.patheffects.Stroke(linewidth=8, foreground=matplotlib.colors.to_rgba('tab:green',.5)),matplotlib.patheffects.Normal()]),\n",
    "           matplotlib.lines.Line2D([0],[0], color='tab:orange', label='True RUL', linewidth=3)]\n",
    "cs = np.array(['k', 'tab:red', 'tab:blue'])\n",
    "\n",
    "for eng in range(len(test_engines)):\n",
    "    fig, ax = plt.subplots(2, 1, layout='tight', sharex=True, figsize=(8,8))\n",
    "\n",
    "    ax[0].xaxis.set_tick_params(which='both', labelbottom=True)\n",
    "    ax[0].invert_xaxis()\n",
    "    ax[0].set_ylabel('RUL Prediction')\n",
    "    ax[1].set_ylabel('RUL Prediction')\n",
    "    ax[1].set_xlabel('True RUL')\n",
    "    alphas = np.arange(0.95, 0.05-.01, -.01)[::-1]\n",
    "    for i, label in enumerate(model_labels):\n",
    "        if i % 2 == 0:\n",
    "            axi = i//2\n",
    "            ruls = np.arange(metrics[label]['states'][eng].shape[0])[::-1]\n",
    "            ax[axi].set_yticks(np.arange(0,70,10))\n",
    "            ax[axi].axhline(0, color='k', linewidth=1)\n",
    "            ax[axi].plot(ruls, ruls, color='tab:orange', linestyle='--', zorder=4, linewidth=3)\n",
    "            ax[axi].plot(ruls, np.minimum(128, ruls), color='tab:orange', linestyle='-', zorder=5, linewidth=3)\n",
    "        \n",
    "            pc = 'tab:green' if i == 0 else 'tab:green'\n",
    "            lows, ups = scipy.stats.lognorm.interval(alphas, s=metrics[label]['states'][eng][:,1,np.newaxis], scale=np.exp(metrics[label]['states'][eng][:,0,np.newaxis]))\n",
    "            means = np.exp(metrics[label]['states'][eng][:,0] + metrics[label]['states'][eng][:,1]**2 /2)\n",
    "            ax[axi].plot(ruls, means, color='k', lw=1, zorder=3)\n",
    "            ax[axi].fill_between(ruls, means, lows[:,0], color=pc ,alpha=1-(alphas[0]*(.85-.1)+.1), linewidth=0, zorder=2)\n",
    "            ax[axi].fill_between(ruls, means, ups[:,0], color=pc ,alpha=1-(alphas[0]*(.85-.1)+.1), linewidth=0, zorder=2)\n",
    "            for j in range(alphas.shape[0]-1):\n",
    "                ax[axi].fill_between(ruls, lows[:,j], lows[:,j+1], color=pc ,alpha=1-(alphas[j+1]*(.85-.1)+.1), linewidth=0, zorder=2)\n",
    "                ax[axi].fill_between(ruls, ups[:,j], ups[:,j+1], color=pc ,alpha=1-(alphas[j+1]*(.85-.1)+.1), linewidth=0, zorder=2)\n",
    "        ax[axi].bar(ruls[-40:], 5, width=1, bottom=-6-(i%2)*6, color=cs[metrics[label]['actions'][eng]][-40:], zorder=3, align='edge')\n",
    "        ax[axi].annotate(label, (ruls[-41]+.25,2.5-6-(i%2)*6), ha='right', va='center', zorder=2)\n",
    "        ax[axi].grid(zorder=-2)\n",
    "        ax[axi].legend(handles=handles, loc='upper right')\n",
    "    ax[0].set_title('Neutral Forecast', y=1.0, pad=-20, loc='center')\n",
    "    ax[1].set_title('Averse Forecast', y=1.0, pad=-20, loc='center')\n",
    "    ax[0].set_xlim(50,0)\n",
    "    ax[0].set_ylim(-12.2,60)\n",
    "    ax[1].set_ylim(-12.2,60)\n",
    "    plt.savefig(f'../results/figures/RL{run_id}/engineactions{eng}.png', facecolor='white', bbox_inches='tight')\n",
    "    if eng == 0:\n",
    "        plt.show()\n",
    "    else:\n",
    "        plt.close()"
   ]
  },
  {
   "cell_type": "code",
   "execution_count": null,
   "metadata": {
    "metadata": {}
   },
   "outputs": [],
   "source": [
    "fig, ax = plt.subplots()\n",
    "ax.hist([metrics[label]['crossp'][np.where(metrics[label]['crossp'] != None)] for label in model_labels], bins=np.linspace(0,1,20), zorder=2, edgecolor='k', label=list(model_labels))\n",
    "ax.legend()\n",
    "ax.grid(zorder=1)\n",
    "ax.set_xlabel('$\\mathrm{Pr}(\\mathrm{RUL}\\leq 10)$')\n",
    "plt.show()"
   ]
  },
  {
   "cell_type": "code",
   "execution_count": null,
   "metadata": {
    "metadata": {}
   },
   "outputs": [],
   "source": [
    "fig, ax = plt.subplots(2,2,sharex=True,sharey=True)\n",
    "colors = ['tab:blue', 'tab:orange', 'tab:green', 'tab:red']\n",
    "ax = ax.flatten()\n",
    "for i, lb in enumerate(model_labels):\n",
    "    ax[i].hist(metrics[lb]['final ruls'], bins=np.arange(0,1+np.max([metrics[label]['final ruls'] for label in model_labels]))-.5, zorder=2, label=lb, histtype='bar', color=colors[i], edgecolor='k')\n",
    "    ax[i].grid(zorder=1)\n",
    "    ax[i].set_title(lb)\n",
    "ax[-2].set_xlabel('Final RUL')\n",
    "ax[-1].set_xlabel('Final RUL')\n",
    "plt.show()"
   ]
  },
  {
   "cell_type": "code",
   "execution_count": null,
   "metadata": {
    "metadata": {}
   },
   "outputs": [],
   "source": [
    "lifeleft = {label: [] for label in model_labels}\n",
    "for label in model_labels:\n",
    "    for i in range(len(metrics[label]['final ruls'])):\n",
    "        if metrics[label]['termidx'][i] == None and metrics[label]['actions'][i][-1] > 0:\n",
    "            if metrics[label]['actions'][i][-1] == 1:\n",
    "                lifeleft[label].append(metrics[label]['final ruls'][i])\n",
    "            else:\n",
    "                lifeleft[label].append(metrics[label]['final ruls'][i]-RL_parameters['planning_window'])\n",
    "        else:\n",
    "            if metrics[label]['actions'][i][metrics[label]['termidx'][i]-1] == 2:\n",
    "                lifeleft[label].append(metrics[label]['final ruls'][i]-RL_parameters['planning_window'])\n",
    "            else:\n",
    "                lifeleft[label].append(metrics[label]['final ruls'][i])\n",
    "\n",
    "\n"
   ]
  },
  {
   "cell_type": "code",
   "execution_count": null,
   "metadata": {
    "metadata": {}
   },
   "outputs": [],
   "source": [
    "fig, ax = plt.subplots(2,2, sharex=False, sharey=False, layout='tight')\n",
    "colors = ['tab:blue', 'tab:orange', 'tab:green', 'tab:red']\n",
    "ymax = 0\n",
    "ax = ax.flatten()\n",
    "for i, lb in enumerate(model_labels):\n",
    "    ax[i].hist(lifeleft[lb], bins=np.arange(-1, 1+np.max([lifeleft[label] for label in model_labels]))-.5, zorder=2, label=lb, edgecolor='k', color=colors[i])\n",
    "    ax[i].grid(zorder=1)\n",
    "    ax[i].set_title(lb)\n",
    "    ax[i].axvline(0.5, color='k', linestyle='-', linewidth=2)\n",
    "    xlim = ax[i].get_xlim()\n",
    "    ax[i].axvspan(xlim[0], 0.5, *ax[i].get_ylim(), color='grey', alpha=0.4, hatch='x')\n",
    "    ax[i].set_xlim(*xlim)\n",
    "    ax[i].set_xlabel('RUL at scheduled replacements')\n",
    "    ymax = max(ymax, ax[i].get_ylim()[1])\n",
    "for i in range(len(ax)):\n",
    "    ax[i].set_ylim(0,ymax)\n",
    "plt.savefig(f'../results/figures/RL{run_id}/lifeleft.png', facecolor='white', bbox_inches='tight')\n",
    "plt.show()"
   ]
  },
  {
   "cell_type": "code",
   "execution_count": null,
   "metadata": {},
   "outputs": [],
   "source": [
    "figs = []\n",
    "axes = []\n",
    "ymax=0\n",
    "colors = ['tab:blue', 'tab:orange', 'tab:green', 'tab:red']\n",
    "for i, lb in enumerate(model_labels):    \n",
    "    fig, ax = plt.subplots(layout='tight', figsize=(4,3))\n",
    "    \n",
    "    ax.hist(lifeleft[lb], bins=np.arange(-1, 1+np.max([lifeleft[label] for label in model_labels]))-.5, zorder=2, label=lb, edgecolor='k', color=colors[i])\n",
    "    ax.grid(zorder=1)\n",
    "    #ax.set_title(lb)\n",
    "    ax.axvline(0.5, color='k', linestyle='-', linewidth=2)\n",
    "    xlim = ax.get_xlim()\n",
    "    ax.axvspan(xlim[0], 0.5, *ax.get_ylim(), color='grey', alpha=0.4, hatch='x')\n",
    "    ax.set_xlim(*xlim)\n",
    "    ax.set_xlabel('RUL at scheduled replacements')\n",
    "    ymax = max(ymax, ax.get_ylim()[1])\n",
    "    figs.append(fig)\n",
    "    axes.append(ax)\n",
    "for i in range(len(axes)):\n",
    "    axes[i].set_ylim(0,ymax)\n",
    "\n",
    "for i, lb in enumerate(model_labels):\n",
    "    figs[i].savefig(f'../results/figures/RL{run_id}/lifeleft-{lb}.png', facecolor='white', bbox_inches='tight')\n",
    "plt.show()"
   ]
  },
  {
   "cell_type": "code",
   "execution_count": null,
   "metadata": {},
   "outputs": [],
   "source": [
    "print('\\t\\tmean\\tstd\\tmax\\tmin')\n",
    "for lb in model_labels:\n",
    "    print(f'{lb}\\t{np.mean(lifeleft[lb]):.2f}\\t{np.std(lifeleft[lb]):.2f}\\t{np.max(lifeleft[lb]):.2f}\\t{np.min(lifeleft[lb]):.2f}')"
   ]
  },
  {
   "cell_type": "code",
   "execution_count": null,
   "metadata": {
    "metadata": {}
   },
   "outputs": [],
   "source": [
    "sumrewards = {label: [] for label in model_labels}\n",
    "for label in model_labels:\n",
    "    for i in range(len(metrics[label]['rewards'])):\n",
    "        sumrewards[label].append(metrics[label]['rewards'][i][:metrics[label]['termidx'][i]].sum())\n",
    "\n"
   ]
  },
  {
   "cell_type": "code",
   "execution_count": null,
   "metadata": {},
   "outputs": [],
   "source": [
    "_, bins = np.histogram(np.concatenate([opt_rewards, *[sumrewards[lb] for lb in model_labels]]), bins=int(np.sqrt(4*len(opt_rewards))))"
   ]
  },
  {
   "cell_type": "code",
   "execution_count": null,
   "metadata": {
    "metadata": {}
   },
   "outputs": [],
   "source": [
    "fig, ax = plt.subplots(2,2, sharex=False, sharey=False, layout='tight')\n",
    "colors = ['tab:blue', 'tab:orange', 'tab:green', 'tab:red']\n",
    "ax = ax.flatten()\n",
    "for i, lb in enumerate(model_labels):\n",
    "    ax[i].hist([sumrewards[lb], opt_rewards], bins=bins, density=True, edgecolor='k', zorder=3, color=[colors[i], 'k'])\n",
    "    if i == 0:\n",
    "        ylim = ax[i].get_ylim()[1]\n",
    "    ax[i].vlines([np.mean(sumrewards[lb]), np.mean(opt_rewards)], ymin=0, ymax=ylim*1.4, colors=[colors[i], 'k'], zorder=2, linewidth=2, alpha=0.8, linestyle='--')\n",
    "    ax[i].grid(zorder=1)\n",
    "    ax[i].set_title(lb)\n",
    "    ax[i].set_xlabel('Total reward')\n",
    "#ax[-1].set_xlabel('Reward')\n",
    "plt.savefig(f'../results/figures/RL{run_id}/rewards.png', facecolor='white', bbox_inches='tight')\n",
    "plt.show()"
   ]
  },
  {
   "cell_type": "code",
   "execution_count": null,
   "metadata": {},
   "outputs": [],
   "source": [
    "figs = []\n",
    "axes = []\n",
    "colors = ['tab:blue', 'tab:orange', 'tab:green', 'tab:red']\n",
    "for i, lb in enumerate(model_labels):    \n",
    "    fig, ax = plt.subplots(layout='tight', figsize=(4,3))\n",
    "    ax.hist([sumrewards[lb], opt_rewards], bins=bins, density=True, edgecolor='k', zorder=3, color=[colors[i], 'k'])\n",
    "    if i == 0:\n",
    "        ylim = ax.get_ylim()[1]\n",
    "    ax.vlines([np.mean(sumrewards[lb]), np.mean(opt_rewards)], ymin=0, ymax=ylim*1.4, colors=[colors[i], 'k'], zorder=2, linewidth=2, alpha=0.8, linestyle='--')\n",
    "    ax.grid(zorder=1)\n",
    "    #ax.set_title(lb)\n",
    "    ax.set_xlabel('Total reward')\n",
    "    figs.append(fig)\n",
    "    axes.append(ax)\n",
    "\n",
    "for i, lb in enumerate(model_labels):\n",
    "    figs[i].savefig(f'../results/figures/RL{run_id}/rewards-{lb}.png', facecolor='white', bbox_inches='tight')\n",
    "plt.show()"
   ]
  },
  {
   "cell_type": "code",
   "execution_count": null,
   "metadata": {},
   "outputs": [],
   "source": [
    "print(f'Optimal reward:\\t{np.mean(opt_rewards):.2f}')\n",
    "for lb in model_labels:\n",
    "    print(f'{lb}:\\t{np.mean(sumrewards[lb]):.2f}')"
   ]
  },
  {
   "cell_type": "code",
   "execution_count": null,
   "metadata": {},
   "outputs": [],
   "source": [
    "fig, ax = plt.subplots(2,2, sharex=True, sharey=True)\n",
    "ax = ax.flatten()\n",
    "for i, lb in enumerate(model_labels):\n",
    "    ax[i].hist(np.asarray(sumrewards[lb])-np.asarray(opt_rewards), density=True, edgecolor='k', zorder=2, color=colors[i])\n",
    "    mean = np.mean(np.asarray(sumrewards[lb])-np.asarray(opt_rewards))\n",
    "    ax[i].axvline(mean, color=colors[i], linestyle='--', zorder=1, alpha=0.7)\n",
    "    ax[i].grid(zorder=1)\n",
    "    ax[i].set_title(f'{lb}: {mean:.2f}')\n",
    "ax[-2].set_xlabel('Reward - Optimal Reward')\n",
    "ax[-1].set_xlabel('Reward - Optimal Reward')\n",
    "plt.show()"
   ]
  },
  {
   "cell_type": "code",
   "execution_count": null,
   "metadata": {},
   "outputs": [],
   "source": [
    "import matplotlib.colors\n",
    "cmap = matplotlib.colors.ListedColormap(['k','tab:red','tab:blue'])"
   ]
  },
  {
   "cell_type": "code",
   "execution_count": null,
   "metadata": {},
   "outputs": [],
   "source": [
    "bins = np.arange(0,1+.1,.1)\n",
    "fig, ax = plt.subplots(2,2, layout='constrained', figsize=(8,6))\n",
    "ax = ax.flatten()\n",
    "for k, label in enumerate(model_labels):\n",
    "    ax[k].set_title(label)\n",
    "    ax[k].set_xlabel(r'$\\mathrm{Pr}(\\mathrm{RUL}\\leq 10)$')\n",
    "    ax[k].set_yticks([])\n",
    "    ax[k].set_ylim(0,1.1)\n",
    "    pf = np.concatenate(metrics[label]['pfails'])\n",
    "    act = np.concatenate(metrics[label]['actions'])\n",
    "    bar_heights = []\n",
    "    for i, (low, up) in enumerate(zip(bins[:-1], bins[1:])):\n",
    "        bar_heights.append([len(pf[np.logical_and(act==j, np.logical_and(pf>=low,pf<up if i < len(bins)-2 else pf<=up))]) for j in range(3)])\n",
    "        s = sum(bar_heights[i])\n",
    "        bot = 0\n",
    "        for j in range(len(bar_heights[i])):\n",
    "            bar_heights[i][j] /= s\n",
    "            ax[k].bar((up+low)/2, bar_heights[i][j], width=0.09, bottom=bot, color=cmap(j))\n",
    "            bot += bar_heights[i][j]\n",
    "        ax[k].text((up+low)/2, bot, f'{s}', ha='center', va='bottom', fontsize=8)\n",
    "cbar = fig.colorbar(mpl.cm.ScalarMappable(cmap=cmap), ax=ax.ravel(), ticks=(np.arange(1/3/2,1,1/3)))\n",
    "cbar.set_ticklabels(['do nothing']+['replace now']+[f'replace {RL_parameters[\"planning_window\"]:02d}'])\n",
    "cbar.ax.set_title('actions', loc='left')\n",
    "plt.show()\n"
   ]
  },
  {
   "cell_type": "code",
   "execution_count": null,
   "metadata": {},
   "outputs": [],
   "source": [
    "bins = np.arange(0,1+.1,.1)\n",
    "fig, ax = plt.subplots(2,2, layout='constrained', figsize=(8,6))\n",
    "ax = ax.flatten()\n",
    "for k, label in enumerate(model_labels):\n",
    "    ax[k].set_title(label)\n",
    "    ax[k].set_xlabel(r'$\\mathrm{Pr}(\\mathrm{RUL}\\leq 10)$')\n",
    "    ax[k].set_yticks([])\n",
    "    ax[k].set_ylim(0,1.1)\n",
    "    pf = np.concatenate([metrics[label]['pfails'][i][:metrics[label]['termidx'][i]] for i in range(len(metrics[label]['pfails']))])\n",
    "    act = np.concatenate([metrics[label]['actions'][i][:metrics[label]['termidx'][i]] for i in range(len(metrics[label]['actions']))])\n",
    "    bar_heights = []\n",
    "    for i, (low, up) in enumerate(zip(bins[:-1], bins[1:])):\n",
    "        bar_heights.append([len(pf[np.logical_and(act==j, np.logical_and(pf>=low,pf<up if i < len(bins)-2 else pf<=up))]) for j in range(3)])\n",
    "        s = sum(bar_heights[i])\n",
    "        bot = 0\n",
    "        if s != 0:\n",
    "            for j in range(len(bar_heights[i])):\n",
    "                bar_heights[i][j] /= s\n",
    "                ax[k].bar((up+low)/2, bar_heights[i][j], width=0.09, bottom=bot, color=cmap(j))\n",
    "                bot += bar_heights[i][j]\n",
    "        else:\n",
    "            ax[k].bar((up+low)/2, 1, width=0.09, alpha=0)\n",
    "        ax[k].text((up+low)/2, 1, f'{s}', ha='center', va='bottom', fontsize=8)\n",
    "cbar = fig.colorbar(mpl.cm.ScalarMappable(cmap=cmap), ax=ax.ravel(), ticks=(np.arange(1/3/2,1,1/3)))\n",
    "cbar.set_ticklabels(['do nothing']+['replace now']+[f'replace {RL_parameters[\"planning_window\"]:02d}'])\n",
    "cbar.ax.set_title('actions', loc='left')\n",
    "plt.show()\n"
   ]
  },
  {
   "cell_type": "code",
   "execution_count": null,
   "metadata": {
    "metadata": {}
   },
   "outputs": [],
   "source": [
    "testid = test_ids[0]\n",
    "for lb in model_labels:\n",
    "    IPython.display.display(IPython.display.Image(f'../results/figures/RLtestimg{run_id}-{lb}/RLcrossover{testid}.png'))"
   ]
  },
  {
   "cell_type": "code",
   "execution_count": null,
   "metadata": {},
   "outputs": [],
   "source": [
    "import src.tests.rl_tests\n",
    "reload(src.tests.rl_tests)"
   ]
  },
  {
   "cell_type": "code",
   "execution_count": null,
   "metadata": {},
   "outputs": [],
   "source": [
    "from src.tests.rl_tests import rl_engine_anim_allmodels"
   ]
  },
  {
   "cell_type": "code",
   "execution_count": null,
   "metadata": {},
   "outputs": [],
   "source": [
    "rl_agent.env.test_engines.dataset[rl_agent.env.test_engines.indices]"
   ]
  },
  {
   "cell_type": "code",
   "execution_count": null,
   "metadata": {},
   "outputs": [],
   "source": [
    "try:\n",
    "    os.mkdir(f'../results/figures/RLVideo{run_id}')\n",
    "except FileExistsError:\n",
    "    pass\n",
    "print(test_engines.dataset[test_engines.indices])\n",
    "for idx in test_engines.dataset[test_engines.indices]:\n",
    "    if not os.path.exists(f'../results/figures/RLVideo{run_id}/{idx}-ani.mp4'):\n",
    "        print(idx)\n",
    "        rl_engine_anim_allmodels(idx, rl_agent, rl_agent_cvar, w_rl_agent, w_rl_agent_cvar, savepath=f'../results/figures/RLVideo{run_id}')"
   ]
  },
  {
   "cell_type": "code",
   "execution_count": null,
   "metadata": {},
   "outputs": [],
   "source": [
    "fig, ax = plt.subplots(2,2,sharex=False,sharey=False, layout='constrained', figsize=(8,6))\n",
    "cmap = matplotlib.colors.ListedColormap(['k','tab:red','tab:blue'])\n",
    "ax = ax.flatten()\n",
    "for i, label in enumerate(model_labels):\n",
    "    for j in range(10):\n",
    "        msk = metrics[label]['actions'][j] != 0\n",
    "        ax[i].scatter(np.exp(metrics[label]['states'][j][:,0][msk]+0.5*metrics[label]['states'][j][:,1][msk]**2), \n",
    "                      np.sqrt((np.exp(metrics[label]['states'][j][:,1][msk]**2)-1)*np.exp(2*metrics[label]['states'][j][:,0][msk]+metrics[label]['states'][j][:,1][msk]**2)), \n",
    "                      color=cmap(metrics[label]['actions'][j][msk]), s=50, alpha=1, zorder=3, edgecolor='k', linewidth=.1)\n",
    "        ax[i].scatter(np.exp(metrics[label]['states'][j][:,0][~msk]+0.5*metrics[label]['states'][j][:,1][~msk]**2), \n",
    "                      np.sqrt((np.exp(metrics[label]['states'][j][:,1][~msk]**2)-1)*np.exp(2*metrics[label]['states'][j][:,0][~msk]+metrics[label]['states'][j][:,1][~msk]**2)), \n",
    "                      color=cmap(metrics[label]['actions'][j][~msk]), s=3, alpha=1, zorder=2)\n",
    "    ax[i].grid(zorder=1)\n",
    "    ax[i].set_title(label)\n",
    "    ax[i].set_ylabel('std')\n",
    "    #ax[2].set_ylabel('std')\n",
    "    ax[i].set_xlabel('mean')\n",
    "    #ax[3].set_xlabel('mean')\n",
    "cbar = fig.colorbar(mpl.cm.ScalarMappable(cmap=cmap), ax=ax.ravel(), ticks=np.arange(0.25,1,.5))\n",
    "cbar.set_ticklabels(['do nothing']+[f'replace {RL_parameters[\"planning_window\"]:02d}'])\n",
    "cbar.ax.set_title('Action', loc='left')\n",
    "plt.savefig(f'../results/figures/RL{run_id}/testengine-traj.png', facecolor='white', bbox_inches='tight')\n",
    "plt.show()"
   ]
  },
  {
   "cell_type": "code",
   "execution_count": null,
   "metadata": {},
   "outputs": [],
   "source": [
    "import matplotlib.lines\n",
    "\n",
    "figs, axes = [], []\n",
    "\n",
    "\n",
    "for i, label in enumerate(model_labels):\n",
    "    fig, ax = plt.subplots(layout='tight', figsize=(5,4))\n",
    "    for j in range(len(metrics[label]['states'])):\n",
    "        msk = metrics[label]['actions'][j] != 0\n",
    "        ax.scatter(np.exp(metrics[label]['states'][j][:,0][msk]+0.5*metrics[label]['states'][j][:,1][msk]**2), \n",
    "                      np.sqrt((np.exp(metrics[label]['states'][j][:,1][msk]**2)-1)*np.exp(2*metrics[label]['states'][j][:,0][msk]+metrics[label]['states'][j][:,1][msk]**2)), \n",
    "                      color=cmap(metrics[label]['actions'][j][msk]), s=50, alpha=1, zorder=3, edgecolor='k', linewidth=.1)\n",
    "        ax.scatter(np.exp(metrics[label]['states'][j][:,0][~msk]+0.5*metrics[label]['states'][j][:,1][~msk]**2), \n",
    "                      np.sqrt((np.exp(metrics[label]['states'][j][:,1][~msk]**2)-1)*np.exp(2*metrics[label]['states'][j][:,0][~msk]+metrics[label]['states'][j][:,1][~msk]**2)), \n",
    "                      color=cmap(metrics[label]['actions'][j][~msk]), s=3, alpha=1, zorder=2)\n",
    "    ax.grid(zorder=1)\n",
    "    ax.set_ylabel('Standard deviation')\n",
    "    ax.set_xlabel('Mean')\n",
    "    dn = matplotlib.lines.Line2D([0],[0], label='Do nothing', color='k', marker='o', linestyle='')\n",
    "    rn = matplotlib.lines.Line2D([0],[0], label='Replace now', color='tab:red', marker='o', linestyle='')\n",
    "    r10 = matplotlib.lines.Line2D([0],[0], label='Replace in 10', color='tab:blue', marker='o', linestyle='')\n",
    "    ax.legend(handles=[dn, rn, r10])\n",
    "    figs.append(fig)\n",
    "    axes.append(axes)\n",
    "for i, label in enumerate(model_labels):\n",
    "    figs[i].savefig(f'../results/figures/RL{run_id}/testengine-traj-{label}.png', facecolor='white', bbox_inches='tight')\n",
    "plt.show()"
   ]
  },
  {
   "cell_type": "code",
   "execution_count": null,
   "metadata": {},
   "outputs": [],
   "source": [
    "train_states = {'neutral': [], 'averse': []}\n",
    "train_means = {'neutral': None, 'averse': None}\n",
    "train_sds = {'neutral': None, 'averse': None}\n",
    "mins, maxs = {'neutral': [], 'averse': []}, {'neutral': [], 'averse': []}\n",
    "for label in list(model_labels)[::2]:\n",
    "    labelidx = label.split('-')[0]\n",
    "    for train_engineid in model_dict[label].env.engines:\n",
    "        cur_data, _, _, _ = model_dict[label].env.dataset.get_unit_by_id(train_engineid)\n",
    "        cur_data = cur_data.float().to(model_dict[label].env.device)\n",
    "        states = torch.cat(model_dict[label].env.model(cur_data[:,model_dict[label].env.dataoffset:]),dim=-1)[:,-1].detach().cpu().numpy()\n",
    "        train_states[labelidx].append(states)\n",
    "    train_mean = np.concatenate([np.exp(train_states[labelidx][i][:,0]+0.5*train_states[labelidx][i][:,1]**2) for i in range(len(model_dict[label].env.engines))])\n",
    "    train_sd = np.concatenate([np.sqrt((np.exp(train_states[labelidx][i][:,1]**2)-1)*np.exp(2*train_states[labelidx][i][:,0]+train_states[labelidx][i][:,1]**2)) for i in range(len(model_dict[label].env.engines))])\n",
    "    train_means[labelidx] = train_mean\n",
    "    train_sds[labelidx] = train_sd\n",
    "    for i in np.arange(1,129,1):\n",
    "        try:\n",
    "            mins[labelidx].append(train_sd[np.logical_and(train_mean >= i, train_mean < i+1)].min())\n",
    "        except ValueError:\n",
    "            mins[labelidx].append(-np.inf)\n",
    "        try:\n",
    "            maxs[labelidx].append(train_sd[np.logical_and(train_mean >= i, train_mean < i+1)].max())\n",
    "        except ValueError:\n",
    "            maxs[labelidx].append(np.inf)\n",
    "    mins[labelidx] = np.asarray(mins[labelidx])\n",
    "    maxs[labelidx] = np.asarray(maxs[labelidx])"
   ]
  },
  {
   "cell_type": "code",
   "execution_count": null,
   "metadata": {},
   "outputs": [],
   "source": [
    "def grid_actions(agent, states):\n",
    "    with torch.no_grad():\n",
    "        eval = agent.dqn(states)\n",
    "        action = eval.argmax(1).cpu().numpy()\n",
    "    states = states.detach().cpu()\n",
    "    return action\n",
    "    "
   ]
  },
  {
   "cell_type": "code",
   "execution_count": null,
   "metadata": {},
   "outputs": [],
   "source": [
    "import gc\n",
    "states = None\n",
    "del train_states\n",
    "with torch.no_grad():\n",
    "    torch.cuda.empty_cache()\n",
    "gc.collect()"
   ]
  },
  {
   "cell_type": "code",
   "execution_count": null,
   "metadata": {},
   "outputs": [],
   "source": [
    "Mus = torch.log(torch.linspace(0.001, 128, 500))\n",
    "Sigs = torch.log(torch.linspace(np.exp(0.001), np.exp(1.5), 500))\n",
    "grid_mu, grid_sig = torch.meshgrid(Mus, Sigs, indexing='ij')\n",
    "pre_states = torch.vstack([grid_mu.flatten(), grid_sig.flatten()]).T.unsqueeze(1)\n",
    "states = rl_agent.env._transform_states(pre_states).to(rl_agent.device)\n",
    "grid_actions_dict = {label: grid_actions(model_dict[label], states) for label in model_labels}\n",
    "states = None\n",
    "torch.cuda.empty_cache()"
   ]
  },
  {
   "cell_type": "code",
   "execution_count": null,
   "metadata": {},
   "outputs": [],
   "source": [
    "means = np.exp(grid_mu+0.5*(grid_sig**2)).flatten()\n",
    "stds = np.sqrt((np.exp(grid_sig**2)-1)*np.exp(2*grid_mu+grid_sig**2)).flatten()\n",
    "msk = np.logical_and(means.numpy()<=128,stds.numpy()<=30)"
   ]
  },
  {
   "cell_type": "code",
   "execution_count": null,
   "metadata": {},
   "outputs": [],
   "source": [
    "import scipy.interpolate\n",
    "xs, ys = np.mgrid[0:128:1000j,0:30:1000j]\n",
    "resampled_action_dict = {label: scipy.interpolate.griddata((means[msk],stds[msk]), grid_actions_dict[label][msk], (xs,ys), method='nearest') for label in model_labels}"
   ]
  },
  {
   "cell_type": "code",
   "execution_count": null,
   "metadata": {},
   "outputs": [],
   "source": [
    "import scipy.spatial\n",
    "hull = scipy.spatial.ConvexHull(np.vstack([means[msk].numpy(),stds[msk].numpy()]).T)"
   ]
  },
  {
   "cell_type": "code",
   "execution_count": null,
   "metadata": {},
   "outputs": [],
   "source": [
    "import matplotlib.path\n",
    "poly_verts = [(means[msk][idx].item(),stds[msk][idx].item()) for idx in hull.vertices]\n",
    "poly_verts.append(poly_verts[0])\n",
    "poly_path = matplotlib.path.Path(poly_verts)\n",
    "poly_msk = poly_path.contains_points(np.vstack((xs.flatten(),ys.flatten())).T)\n",
    "poly_msk = poly_msk.reshape(xs.shape)"
   ]
  },
  {
   "cell_type": "code",
   "execution_count": null,
   "metadata": {},
   "outputs": [],
   "source": [
    "test_points = np.concatenate([np.concatenate(metrics[label]['states']) for label in model_labels])\n",
    "test_means = np.exp(test_points[:,0]+0.5*test_points[:,1]**2)\n",
    "test_stds = np.sqrt(np.exp(2*test_points[:,0]+test_points[:,1]**2)*(np.exp(test_points[:,1]**2)-1))"
   ]
  },
  {
   "cell_type": "code",
   "execution_count": null,
   "metadata": {},
   "outputs": [],
   "source": [
    "test_hull = scipy.spatial.ConvexHull(np.vstack((test_means,test_stds)).T)\n",
    "test_poly_verts = [(test_means[idx],test_stds[idx]) for idx in test_hull.vertices]\n",
    "test_poly_verts.append(test_poly_verts[0])\n",
    "test_poly_path = matplotlib.path.Path(test_poly_verts)\n",
    "test_poly_msk = test_poly_path.contains_points(np.vstack((means[msk].flatten(),stds[msk].flatten())).T)\n",
    "test_poly_verts = np.asarray(test_poly_verts)"
   ]
  },
  {
   "cell_type": "code",
   "execution_count": null,
   "metadata": {},
   "outputs": [],
   "source": [
    "train_hull = {key: scipy.spatial.ConvexHull(np.vstack((train_means[key], train_sds[key])).T) for key in ['neutral', 'averse']}\n",
    "train_poly_verts = {key:[(train_means[key][idx],train_sds[key][idx]) for idx in train_hull[key].vertices] for key in ['neutral', 'averse']}\n",
    "train_poly_verts['neutral'].append(train_poly_verts['neutral'][0])\n",
    "train_poly_verts['averse'].append(train_poly_verts['averse'][0])\n",
    "train_poly_path = {key: matplotlib.path.Path(train_poly_verts[key]) for key in ['neutral','averse']}\n",
    "train_poly_msk = {key: train_poly_path[key].contains_points(np.vstack((means[msk].flatten(),stds[msk].flatten())).T) for key in ['neutral', 'averse']}\n",
    "train_poly_verts['neutral'] = np.asarray(train_poly_verts['neutral'])\n",
    "train_poly_verts['averse'] = np.asarray(train_poly_verts['averse'])\n",
    "\n",
    "train_poly_msk_int = {key: train_poly_path[key].contains_points(np.vstack((xs.flatten(),ys.flatten())).T).reshape(xs.shape) for key in ['neutral','averse']}\n",
    "min_train_msk = {key: train_poly_path[key].contains_points(np.vstack((np.arange(1,129,1), mins[key])).T) for key in ['neutral','averse']}\n",
    "max_train_msk = {key: train_poly_path[key].contains_points(np.vstack((np.arange(1,129,1), maxs[key])).T) for key in ['neutral','averse']}"
   ]
  },
  {
   "cell_type": "code",
   "execution_count": null,
   "metadata": {},
   "outputs": [],
   "source": [
    "min_train_msk['neutral'], max_train_msk['neutral']"
   ]
  },
  {
   "cell_type": "code",
   "execution_count": null,
   "metadata": {},
   "outputs": [],
   "source": [
    "scatter_test_poly_msk = test_poly_path.contains_points(np.vstack((means,stds)).T)\n",
    "test_poly_msk_int = test_poly_path.contains_points(np.vstack((xs.flatten(),ys.flatten())).T)\n",
    "test_poly_msk_int = test_poly_msk_int.reshape(xs.shape)"
   ]
  },
  {
   "cell_type": "code",
   "execution_count": null,
   "metadata": {},
   "outputs": [],
   "source": [
    "fig, ax = plt.subplots(2,2, sharex=False, sharey=False, layout='constrained', figsize=(8,6))\n",
    "ax = ax.flatten()\n",
    "for i, label in enumerate(model_labels):\n",
    "    key = label.split('-')[0]\n",
    "    masked_actions = resampled_action_dict[label].astype(float)\n",
    "    masked_actions[~poly_msk] = np.nan\n",
    "    masked_actions_out = masked_actions.copy()\n",
    "    masked_actions_out[train_poly_msk_int[key]] = np.nan\n",
    "    masked_actions[~train_poly_msk_int[key]] = np.nan\n",
    "    ax[i].pcolormesh(xs,ys, masked_actions, cmap=cmap, vmin=0,vmax=2)\n",
    "    ax[i].pcolormesh(xs,ys, masked_actions_out, cmap=cmap, vmin=0,vmax=2, alpha=0.1)\n",
    "    ax[i].set_title(label)\n",
    "    ax[i].plot(train_poly_verts[key][:,0], train_poly_verts[key][:,1], color='white', alpha=1, linestyle='-', linewidth=2)\n",
    "    ax[i].set_xlim(0,40)\n",
    "    ax[i].set_ylim(0,10)\n",
    "    ax[i].set_xlabel('mean')\n",
    "    ax[i].set_ylabel('std')\n",
    "\n",
    "    ax[i].plot(np.arange(1,129,1), mins[label.split('-')[0]], linestyle='--', color='white')\n",
    "    ax[i].plot(np.arange(1,129,1), maxs[label.split('-')[0]], linestyle='--', color='white')\n",
    "cbar = fig.colorbar(mpl.cm.ScalarMappable(cmap=cmap), ax=ax.ravel(), ticks=np.arange(1/3/2,1,1/3))\n",
    "cbar.set_ticklabels(['do nothing']+['replace now']+[f'replace {RL_parameters[\"planning_window\"]:02d}'])\n",
    "cbar.ax.set_title('Action', loc='left')\n",
    "#ax[0].set_ylabel('std')\n",
    "#ax[2].set_ylabel('std')\n",
    "#ax[2].set_xlabel('mean')\n",
    "#ax[3].set_xlabel('mean')\n",
    "plt.savefig(f'../results/figures/RL{run_id}/decisionfield.png', facecolor='white', bbox_inches='tight')\n",
    "plt.show()"
   ]
  },
  {
   "cell_type": "code",
   "execution_count": null,
   "metadata": {},
   "outputs": [],
   "source": [
    "import matplotlib.patches\n",
    "figs, axes = [], []\n",
    "\n",
    "for i, label in enumerate(model_labels):\n",
    "    key = label.split('-')[0]\n",
    "    fig, ax = plt.subplots(layout='tight', figsize=(5,4))\n",
    "    masked_actions = resampled_action_dict[label].astype(float)\n",
    "    masked_actions[~poly_msk] = np.nan\n",
    "    masked_actions_out = masked_actions.copy()\n",
    "    masked_actions_out[train_poly_msk_int[key]] = np.nan\n",
    "    masked_actions[~train_poly_msk_int[key]] = np.nan\n",
    "    ax.pcolormesh(xs,ys, masked_actions, cmap=cmap, vmin=0,vmax=2)\n",
    "    ax.pcolormesh(xs,ys, masked_actions_out, cmap=cmap, vmin=0,vmax=2, alpha=0.2)\n",
    "    #ax.set_title(label)\n",
    "    ax.plot(train_poly_verts[key][:,0], train_poly_verts[key][:,1], color='white', alpha=1, linestyle='-', linewidth=2)\n",
    "    ax.set_xlim(0,40)\n",
    "    ax.set_ylim(0,10)\n",
    "    ax.set_xlabel('Mean')\n",
    "    ax.set_ylabel('Standard Deviation')\n",
    "    dn = matplotlib.patches.Patch(label='Do nothing', color='k')\n",
    "    rn = matplotlib.patches.Patch(label='Replace now', color='tab:red')\n",
    "    r10 = matplotlib.patches.Patch(label='Replace in 10', color='tab:blue')\n",
    "    ax.legend(handles=[dn,rn,r10], loc='upper left')\n",
    "    ax.plot(np.arange(1,129,1), mins[label.split('-')[0]], linestyle='--', color='white')\n",
    "    ax.plot(np.arange(1,129,1), maxs[label.split('-')[0]], linestyle='--', color='white')\n",
    "    figs.append(fig)\n",
    "    axes.append(ax)\n",
    "\n",
    "for i, label in enumerate(model_labels):\n",
    "    figs[i].savefig(f'../results/figures/RL{run_id}/decisionfield-{label}.png', facecolor='white', bbox_inches='tight')\n",
    "plt.show()"
   ]
  },
  {
   "cell_type": "code",
   "execution_count": null,
   "metadata": {},
   "outputs": [],
   "source": [
    "fig, ax = plt.subplots(2,2,sharex=False,sharey=False,layout='constrained', figsize=(8,6))\n",
    "ymax = 0\n",
    "ax = ax.flatten()\n",
    "for i, label in enumerate(model_labels):\n",
    "    n, _, _ = ax[i].hist([np.concatenate([np.arange(0,act_arr.shape[0])[::-1] for act_arr in metrics[label]['actions']])[np.concatenate(metrics[label]['actions'])==i] for i in range(3)], density=True, bins=np.arange(0,250,1), color=cmap([0,1,2]), histtype='barstacked', linewidth=1, zorder=3)\n",
    "    #ax[i].hist([np.concatenate([np.arange(0,act_arr.shape[0])[::-1] for act_arr in metrics[label]['actions']])[np.concatenate(metrics[label]['actions'])==i] for i in range(3)], density=True, bins=np.arange(0,250,1), edgecolor=cmap([0,1,2]), histtype='barstacked', linewidth=1, zorder=3)\n",
    "    #ax[i].hist([np.concatenate([np.arange(0,act_arr.shape[0])[::-1] for act_arr in metrics[label]['actions']])[np.concatenate(metrics[label]['actions'])==i] for i in range(3)], density=True, bins=np.arange(0,250,1), color=cmap([0,1,2]), histtype='stepfilled', alpha=.3, zorder=2)\n",
    "    #ax[i].axvline(RL_parameters['planning_window'], color='g', linestyle='--', zorder=2, alpha=.5, linewidth=2)\n",
    "    ax[i].grid(zorder=4, color='w')\n",
    "    ax[i].set_title(label)\n",
    "    ax[i].set_xlim(0,50)\n",
    "    ymax = max(ymax, n.max())\n",
    "    ax[i].set_xlabel('True RUL')\n",
    "    ax[i].set_ylabel('Action frequency')\n",
    "for axi in ax:\n",
    "    axi.set_ylim(0,ymax)\n",
    "cbar = fig.colorbar(mpl.cm.ScalarMappable(cmap=cmap), ax=ax.ravel(), ticks=np.arange(1/3/2,1,1/3))\n",
    "cbar.set_ticklabels(['do nothing']+['replace now']+[f'replace {RL_parameters[\"planning_window\"]:02d}'])\n",
    "cbar.ax.set_title('Action', loc='left')\n",
    "#ax[2].set_xlabel('True RUL')\n",
    "#ax[3].set_xlabel('True RUL')\n",
    "#ax[0].set_ylabel('Frequency of action')\n",
    "#ax[2].set_ylabel('Frequency of action')\n",
    "plt.savefig(f'../results/figures/RL{run_id}/action-ruldist.png', facecolor='white', bbox_inches='tight')\n",
    "plt.show()"
   ]
  },
  {
   "cell_type": "code",
   "execution_count": null,
   "metadata": {},
   "outputs": [],
   "source": [
    "for label in model_labels:\n",
    "    print(f'{label}:')\n",
    "    act_hists = [np.concatenate([np.arange(0,act_arr.shape[0])[::-1] for act_arr in metrics[label]['actions']])[np.concatenate(metrics[label]['actions'])==i] for i in range(3)]\n",
    "    print(f'\\tPr(action=0|RUL<=10) = {np.count_nonzero(act_hists[0] <= 10)/act_hists[0].shape[0]:.5f}')\n",
    "    print(f'\\tPr(action=1|RUL>=10) = {np.count_nonzero(act_hists[1] >= 10)/act_hists[1].shape[0]:.5f}')\n",
    "    print(f'\\tPr(action=2|RUL<10) = {np.count_nonzero(act_hists[2] < 10)/act_hists[2].shape[0]:.5f}')"
   ]
  },
  {
   "cell_type": "code",
   "execution_count": null,
   "metadata": {},
   "outputs": [],
   "source": [
    "figs, axes = [], []\n",
    "ymax = 0\n",
    "for i, label in enumerate(model_labels):\n",
    "    fig, ax = plt.subplots(layout='tight', figsize=(5,4))\n",
    "    n,_,_, ax.hist([np.concatenate([np.arange(0,act_arr.shape[0])[::-1] for act_arr in metrics[label]['actions']])[np.concatenate(metrics[label]['actions'])==i] for i in range(3)], density=True, bins=np.arange(0,250,1), color=cmap([0,1,2]), histtype='barstacked', linewidth=2, zorder=3)\n",
    "    #ax.hist([np.concatenate([np.arange(0,act_arr.shape[0])[::-1] for act_arr in metrics[label]['actions']])[np.concatenate(metrics[label]['actions'])==i] for i in range(3)], density=True, bins=np.arange(0,250,1), color=cmap([0,1,2]), histtype='stepfilled', alpha=.3, zorder=2)\n",
    "    #ax[i].axvline(RL_parameters['planning_window'], color='g', linestyle='--', zorder=2, alpha=.5, linewidth=2)\n",
    "    ax.grid(zorder=1)\n",
    "    #ax.set_title(label)\n",
    "    ax.set_xlim(0,40)\n",
    "    ymax = max(ymax, n.max())\n",
    "    ax.set_xlabel('True RUL')\n",
    "    ax.set_ylabel('Action frequency')\n",
    "    dn = matplotlib.patches.Patch(label='Do nothing', edgecolor='k', facecolor=matplotlib.colors.to_rgba('k',1), linewidth=2)\n",
    "    rn = matplotlib.patches.Patch(label='Replace now', edgecolor='tab:red', facecolor=matplotlib.colors.to_rgba('tab:red',1), linewidth=2)\n",
    "    r10 = matplotlib.patches.Patch(label='Replace in 10', edgecolor='tab:blue', facecolor=matplotlib.colors.to_rgba('tab:blue',1), linewidth=2)\n",
    "    ax.legend(handles=[dn,rn,r10], loc='lower right')\n",
    "    figs.append(fig)\n",
    "    axes.append(ax)\n",
    "for axi in axes:\n",
    "    axi.set_ylim(0,ymax)\n",
    "for i, label in enumerate(model_labels):\n",
    "    figs[i].savefig(f'../results/figures/RL{run_id}/action-ruldist-{label}.png', facecolor='white', bbox_inches='tight')\n",
    "plt.show()"
   ]
  },
  {
   "cell_type": "code",
   "execution_count": null,
   "metadata": {},
   "outputs": [],
   "source": [
    "fig, ax = plt.subplots(2,2,sharex=False,sharey=False,layout='constrained', figsize=(8,6))\n",
    "ymax = 0\n",
    "ax = ax.flatten()\n",
    "for i, label in enumerate(model_labels):\n",
    "    ax[i].hist([np.concatenate(metrics[label]['pfails'])[np.concatenate(metrics[label]['actions'])==i] for i in range(3)], density=True, bins=20, color=cmap([0,1,2]), histtype='step', linewidth=2, zorder=3)\n",
    "    ax[i].hist([np.concatenate(metrics[label]['pfails'])[np.concatenate(metrics[label]['actions'])==i] for i in range(3)], density=True, bins=20, color=cmap([0,1,2]), histtype='stepfilled', alpha=.3, zorder=2)\n",
    "    ax[i].grid(zorder=1)\n",
    "    ax[i].set_title(label)\n",
    "    ax[i].set_xlabel(r'$\\mathrm{Pr}(\\mathrm{RUL}\\leq 10)$')\n",
    "    ax[i].set_ylabel('Frequency of action')\n",
    "    ymax = max(ymax, ax[i].get_ylim()[1])\n",
    "for axi in ax:\n",
    "    axi.set_ylim(0,ymax)\n",
    "cbar = fig.colorbar(mpl.cm.ScalarMappable(cmap=cmap), ax=ax.ravel(), ticks=np.arange(1/3/2,1,1/3))\n",
    "cbar.set_ticklabels(['do nothing']+['replace now']+[f'replace {RL_parameters[\"planning_window\"]:02d}'])\n",
    "cbar.ax.set_title('Action', loc='left')\n",
    "#ax[2].set_xlabel(r'$\\mathrm{Pr}(\\mathrm{RUL}\\leq 10)$')\n",
    "#ax[3].set_xlabel(r'$\\mathrm{Pr}(\\mathrm{RUL}\\leq 10)$')\n",
    "#ax[0].set_ylabel('Frequency of action')\n",
    "#ax[2].set_ylabel('Frequency of action')\n",
    "\n",
    "plt.savefig(f'../results/figures/RL{run_id}/action-pr10dist-test.png', facecolor='white', bbox_inches='tight')\n",
    "plt.show()"
   ]
  },
  {
   "cell_type": "code",
   "execution_count": null,
   "metadata": {},
   "outputs": [],
   "source": [
    "figs, axes = [], []\n",
    "ymax = 0\n",
    "for i, label in enumerate(model_labels):\n",
    "    fig, ax = plt.subplots(layout='tight', figsize=(5,4))\n",
    "    ax.hist([np.concatenate(metrics[label]['pfails'])[np.concatenate(metrics[label]['actions'])==i] for i in range(3)], density=True, bins=20, color=cmap([0,1,2]), histtype='step', linewidth=2, zorder=3)\n",
    "    ax.hist([np.concatenate(metrics[label]['pfails'])[np.concatenate(metrics[label]['actions'])==i] for i in range(3)], density=True, bins=20, color=cmap([0,1,2]), histtype='stepfilled', alpha=.3, zorder=2)\n",
    "    ax.grid(zorder=1)\n",
    "    #ax.set_title(label)\n",
    "    ax.set_xlabel(r'$\\mathrm{Pr}(\\mathrm{RUL}\\leq 10)$')\n",
    "    ax.set_ylabel('Frequency of action')\n",
    "    ymax = max(ymax, ax.get_ylim()[1])\n",
    "    dn = matplotlib.patches.Patch(label='Do nothing', edgecolor='k', facecolor=matplotlib.colors.to_rgba('k',.3), linewidth=2)\n",
    "    rn = matplotlib.patches.Patch(label='Replace now', edgecolor='tab:red', facecolor=matplotlib.colors.to_rgba('tab:red',.3), linewidth=2)\n",
    "    r10 = matplotlib.patches.Patch(label='Replace in 10', edgecolor='tab:blue', facecolor=matplotlib.colors.to_rgba('tab:blue',.3), linewidth=2)\n",
    "    ax.legend(handles=[dn,rn,r10], loc='upper center')\n",
    "    figs.append(fig)\n",
    "    axes.append(ax)\n",
    "for axi in axes:\n",
    "    axi.set_ylim(0,ymax)\n",
    "for i, label in enumerate(model_labels):\n",
    "    figs[i].savefig(f'../results/figures/RL{run_id}/action-pr10dist-{label}.png', facecolor='white', bbox_inches='tight')\n",
    "plt.show()"
   ]
  },
  {
   "cell_type": "code",
   "execution_count": null,
   "metadata": {},
   "outputs": [],
   "source": [
    "pf = 0.5*(1+scipy.special.erf((np.log(10)-grid_mu.flatten()[msk][test_poly_msk])/(grid_sig.flatten()[msk][test_poly_msk]*np.sqrt(2)))).numpy()\n",
    "ymax = 0\n",
    "fig, ax = plt.subplots(2,2,sharex=True,sharey=True,layout='constrained', figsize=(8,6))\n",
    "ax = ax.flatten()\n",
    "for i, label in enumerate(model_labels):\n",
    "    ax[i].hist([pf[grid_actions_dict[label][msk][test_poly_msk]==i] for i in range(3)], density=True, bins=20, color=cmap([i for i in range(3)]), histtype='step', linewidth=2, zorder=3)\n",
    "    ax[i].hist([pf[grid_actions_dict[label][msk][test_poly_msk]==i] for i in range(3)], density=True, bins=20, color=cmap([i for i in range(3)]), histtype='stepfilled', zorder=2, alpha=.3)\n",
    "    ax[i].grid(zorder=1)\n",
    "    ax[i].set_title(label)\n",
    "    ax[i].set_xlabel(r'$\\mathrm{Pr}(\\mathrm{RUL}\\leq 10)$')\n",
    "    ax[i].set_ylabel('Frequency of action')\n",
    "    ymax = max(ymax, ax[i].get_ylim()[1])\n",
    "for axi in ax:\n",
    "    axi.set_ylim(0,ymax)\n",
    "cbar = fig.colorbar(mpl.cm.ScalarMappable(cmap=cmap), ax=ax.ravel(), ticks=np.arange(1/3/2,1,1/3))\n",
    "cbar.set_ticklabels(['do nothing']+['replace now']+[f'replace {RL_parameters[\"planning_window\"]:02d}'])\n",
    "cbar.ax.set_title('Action', loc='left')\n",
    "#ax[2].set_xlabel(r'$\\mathrm{Pr}(\\mathrm{RUL}\\leq 10)$')\n",
    "#ax[3].set_xlabel(r'$\\mathrm{Pr}(\\mathrm{RUL}\\leq 10)$')\n",
    "#ax[0].set_ylabel('Frequency of action')\n",
    "#ax[2].set_ylabel('Frequency of action')\n",
    "plt.savefig(f'../results/figures/RL{run_id}/action-pr10dist-grid.png', facecolor='white', bbox_inches='tight')\n",
    "plt.show()"
   ]
  },
  {
   "cell_type": "code",
   "execution_count": null,
   "metadata": {},
   "outputs": [],
   "source": [
    "figs, axes = [], []\n",
    "ymax = 0\n",
    "pf = 0.5*(1+scipy.special.erf((np.log(10)-grid_mu.flatten()[msk][test_poly_msk])/(grid_sig.flatten()[msk][test_poly_msk]*np.sqrt(2)))).numpy()\n",
    "for i, label in enumerate(model_labels):\n",
    "    fig, ax = plt.subplots(layout='tight', figsize=(5,4))\n",
    "    ax.hist([pf[grid_actions_dict[label][msk][test_poly_msk]==i] for i in range(3)], density=True, bins=20, color=cmap([i for i in range(3)]), histtype='step', linewidth=2, zorder=3)\n",
    "    ax.hist([pf[grid_actions_dict[label][msk][test_poly_msk]==i] for i in range(3)], density=True, bins=20, color=cmap([i for i in range(3)]), histtype='stepfilled', zorder=2, alpha=.3)\n",
    "    ax.grid(zorder=1)\n",
    "    #ax.set_title(label)\n",
    "    ax.set_xlabel(r'$\\mathrm{Pr}(\\mathrm{RUL}\\leq 10)$')\n",
    "    ax.set_ylabel('Frequency of action')\n",
    "    ymax = max(ymax, ax.get_ylim()[1])\n",
    "    dn = matplotlib.patches.Patch(label='Do nothing', edgecolor='k', facecolor=matplotlib.colors.to_rgba('k',.3), linewidth=2)\n",
    "    rn = matplotlib.patches.Patch(label='Replace now', edgecolor='tab:red', facecolor=matplotlib.colors.to_rgba('tab:red',.3), linewidth=2)\n",
    "    r10 = matplotlib.patches.Patch(label='Replace in 10', edgecolor='tab:blue', facecolor=matplotlib.colors.to_rgba('tab:blue',.3), linewidth=2)\n",
    "    ax.legend(handles=[dn,rn,r10], loc='upper center')\n",
    "    figs.append(fig)\n",
    "    axes.append(ax)\n",
    "for axi in axes:\n",
    "    axi.set_ylim(0,ymax)\n",
    "for i, label in enumerate(model_labels):\n",
    "    figs[i].savefig(f'../results/figures/RL{run_id}/action-pr10dist-grid-{label}.png', facecolor='white', bbox_inches='tight')\n",
    "plt.show()"
   ]
  },
  {
   "cell_type": "code",
   "execution_count": null,
   "metadata": {},
   "outputs": [],
   "source": [
    "fig, ax = plt.subplots(figsize=(8,1))\n",
    "zj = rl_agent.support.cpu().numpy()\n",
    "delta_z = float(rl_agent.v_max - rl_agent.v_min) / (rl_agent.atom_size - 1)\n",
    "ax.bar(zj, metrics['neutral-mean']['dists'][0][-1,-1], width=delta_z, align='center', color='tab:cyan', edgecolor='w')\n",
    "ax.axis('off')\n",
    "plt.savefig('testd1.png', transparent=True)\n",
    "plt.show()"
   ]
  },
  {
   "cell_type": "code",
   "execution_count": null,
   "metadata": {
    "metadata": {}
   },
   "outputs": [],
   "source": [
    "import matplotlib as mpl\n",
    "from matplotlib.colors import LinearSegmentedColormap, ListedColormap"
   ]
  },
  {
   "cell_type": "code",
   "execution_count": null,
   "metadata": {},
   "outputs": [],
   "source": [
    "lb = list(model_labels)[0]"
   ]
  },
  {
   "cell_type": "code",
   "execution_count": null,
   "metadata": {},
   "outputs": [],
   "source": [
    "#fig, ax = plt.subplots(3,4, subplot_kw={'projection': '3d'}, figsize=(12,8), layout='constrained')\n",
    "fig, ax = plt.subplots(1,3, subplot_kw={'projection': '3d'}, figsize=(8,4), layout='constrained')\n",
    "ax = ax.flatten()\n",
    "x = np.arange(30)[::-1]\n",
    "y = rl_agent.support.cpu().numpy()\n",
    "XX, YY = np.meshgrid(x, y, indexing='ij')\n",
    "for i in range(len(ax)):\n",
    "    if i < 11:\n",
    "        z = metrics[lb]['dists'][0][-30:,i]\n",
    "        if i == 0:\n",
    "            #cmap = plt.get_cmap('Greys')\n",
    "            cmap = LinearSegmentedColormap.from_list('testcmap', list(zip([0,1],[plt.get_cmap('tab20c')((17)/20), plt.get_cmap('tab20c')((18)/20)])))\n",
    "        else:\n",
    "            cmap = LinearSegmentedColormap.from_list('testcmap', list(zip([0,1],[plt.get_cmap('tab20')((2*i)/20), plt.get_cmap('tab20')((2*i+1)/20)])))\n",
    "        ax[i].bar3d(XX.flatten(), YY.flatten(), np.zeros(len(z.flatten())),1,np.diff(y)[0],z.flatten(), color=cmap((XX.flatten())/len(x)), alpha=0.8, edgecolor='k', linewidth=0.1)\n",
    "        ax[i].invert_xaxis()\n",
    "        #ax[i].view_init(elev=30, azim=45)\n",
    "        ax[i].view_init(elev=20, azim=20)\n",
    "        ax[i].get_zaxis().set_ticks([])\n",
    "        ax[i].get_zaxis().line.set_linewidth(0)\n",
    "        ax[i].w_xaxis.set_pane_color((1.,1.,1.,1.))\n",
    "        ax[i].w_yaxis.set_pane_color((1.,1.,1.,1.))\n",
    "        ax[i].grid(False)\n",
    "\n",
    "    else:\n",
    "        ax[i].axis('off')\n",
    "plt.show()"
   ]
  },
  {
   "cell_type": "code",
   "execution_count": null,
   "metadata": {},
   "outputs": [],
   "source": [
    "cmap = ['grey', 'tab:red', 'tab:blue']\n",
    "xrange = 50\n",
    "yoffset = 95\n",
    "fig, ax = plt.subplots(subplot_kw={'projection': '3d'}, layout='tight', figsize=(12,6))\n",
    "x = np.arange(xrange)[::-1]\n",
    "y = rl_agent.support.cpu().numpy()\n",
    "XX, YY = np.meshgrid(x, y, indexing='ij')\n",
    "for i in range(3):\n",
    "    z = metrics[lb]['dists'][0][-xrange:,i]\n",
    "    ax.bar3d(XX.flatten(), YY.flatten()+yoffset*i, np.zeros(len(z.flatten())),1,np.diff(y)[0],z.flatten(), color=cmap[i], alpha=1, edgecolor='k', linewidth=.03, shade=True)\n",
    "ax.invert_xaxis()\n",
    "ax.set_yticks(np.concatenate([np.linspace(-60,0,4)+yoffset*i for i in range(3)]), labels=np.concatenate([np.linspace(-60,0,4, dtype=int) for i in range(3)]), rotation=0, va='center', ha='center')\n",
    "ax.view_init(elev=15, azim=20)\n",
    "ax.set_box_aspect(aspect=(6,8,2))\n",
    "ax.set_xlabel('True RUL')\n",
    "ax.set_ylabel('Reward Distribution')\n",
    "ax.text(xrange, -81/2, .9, 'do nothing', (0,1,0),ha='center')\n",
    "ax.text(xrange, -81/2+yoffset, .9, 'replace now', (0,1,0),ha='center', color='tab:red')\n",
    "ax.text(xrange, -81/2+yoffset*2, .9, 'replace 10', (0,1,0),ha='center',color='tab:blue')\n",
    "plt.savefig(f'../results/figures/RL{run_id}/3dreward-dist.png', facecolor='white', bbox_inches='tight')\n",
    "plt.show()"
   ]
  },
  {
   "cell_type": "code",
   "execution_count": null,
   "metadata": {
    "metadata": {}
   },
   "outputs": [],
   "source": [
    "i = 1\n",
    "x = np.arange(30)[::-1]\n",
    "y = rl_agent.support.cpu().numpy()\n",
    "XX, YY = np.meshgrid(x, y, indexing='ij')\n",
    "z = metrics[lb]['dists'][0][-30:,i+1]\n",
    "fig = plt.figure()\n",
    "ax = fig.add_subplot(projection='3d')\n",
    "cmap = LinearSegmentedColormap.from_list('testcmap', list(zip([0,1],[plt.get_cmap('tab20')((2*i+1)/20), plt.get_cmap('tab20')((2*i)/20)])))\n",
    "ax.bar3d(XX.flatten(), YY.flatten(), np.zeros(len(z.flatten())),1,np.diff(y)[0],z.flatten(), color=cmap((30-XX.flatten())/len(x)), alpha=0.8)\n",
    "ax.invert_xaxis()\n",
    "ax.view_init(elev=30, azim=45)\n",
    "plt.show()"
   ]
  },
  {
   "cell_type": "code",
   "execution_count": null,
   "metadata": {},
   "outputs": [],
   "source": [
    "Mus = torch.linspace(-6,6,300)\n",
    "Sigs = torch.linspace(0.001, 1.5, 300)\n",
    "\n",
    "grid_mu, grid_sig = torch.meshgrid(Mus, Sigs, indexing='ij')"
   ]
  },
  {
   "cell_type": "code",
   "execution_count": null,
   "metadata": {},
   "outputs": [],
   "source": [
    "pre_states = torch.vstack([grid_mu.flatten(), grid_sig.flatten()]).T.to(rl_agent.device).unsqueeze(1)"
   ]
  },
  {
   "cell_type": "code",
   "execution_count": null,
   "metadata": {},
   "outputs": [],
   "source": [
    "pre_states.shape"
   ]
  },
  {
   "cell_type": "code",
   "execution_count": null,
   "metadata": {},
   "outputs": [],
   "source": [
    "states = rl_agent.env._transform_states(pre_states)"
   ]
  },
  {
   "cell_type": "code",
   "execution_count": null,
   "metadata": {},
   "outputs": [],
   "source": [
    "states.shape"
   ]
  },
  {
   "cell_type": "code",
   "execution_count": null,
   "metadata": {},
   "outputs": [],
   "source": [
    "with torch.no_grad():\n",
    "    eval = rl_agent.dqn(states)\n",
    "    action = eval.argmax(1).cpu().numpy()\n",
    "    cvar = eval.detach().cpu().numpy()\n",
    "    dist = rl_agent.dqn.dist(states).cpu().numpy()"
   ]
  },
  {
   "cell_type": "code",
   "execution_count": null,
   "metadata": {},
   "outputs": [],
   "source": [
    "import matplotlib.colors"
   ]
  },
  {
   "cell_type": "code",
   "execution_count": null,
   "metadata": {},
   "outputs": [],
   "source": [
    "cmap = matplotlib.colors.ListedColormap(['k']+list(plt.get_cmap('tab10').colors))"
   ]
  },
  {
   "cell_type": "code",
   "execution_count": null,
   "metadata": {},
   "outputs": [],
   "source": [
    "fig, ax = plt.subplots()\n",
    "im = ax.pcolormesh(np.exp(grid_mu), grid_sig, action.reshape((Mus.shape[0],Sigs.shape[0])), cmap=cmap, vmin=0, vmax=10)\n",
    "ax.set_xlim(0,128)\n",
    "ax.set_xlabel('$e^\\mu$')\n",
    "ax.set_ylabel('$\\sigma$')\n",
    "cbar = fig.colorbar(im, ax=ax, ticks=np.arange(0,11,1)+.5)\n",
    "cbar.set_ticklabels(['do nothing']+[f'replace {i:02d}' for i in range(1,11)])\n",
    "plt.show()"
   ]
  },
  {
   "cell_type": "code",
   "execution_count": null,
   "metadata": {},
   "outputs": [],
   "source": [
    "fig, ax = plt.subplots(3,4, layout='constrained', figsize=(12,8))\n",
    "ax = ax.flatten()\n",
    "for i in range(len(ax)):\n",
    "    if i < 11:\n",
    "        ax[i].set_title('do nothing' if i == 0 else f'k={i:02d}')\n",
    "        ax[i].set_xlabel(r'$\\mathrm{exp}(\\mu)$')\n",
    "        ax[i].set_ylabel(r'$\\sigma$')\n",
    "        im = ax[i].pcolormesh(np.exp(grid_mu), grid_sig, cvar[:,i].reshape((Mus.shape[0],Sigs.shape[0])), vmin=rl_agent.v_min, vmax=rl_agent.v_max, cmap='turbo')\n",
    "        ax[i].set_xlim(0,128)\n",
    "    else:\n",
    "        ax[i].axis('off')\n",
    "fig.colorbar(im, ax=ax.ravel().tolist(), label='CVaR')\n",
    "plt.show()"
   ]
  },
  {
   "cell_type": "code",
   "execution_count": null,
   "metadata": {},
   "outputs": [],
   "source": [
    "fig, ax = plt.subplots()\n",
    "ax.scatter(np.exp(grid_mu + 0.5*grid_sig**2).flatten(), np.max(cvar, axis=1), s=1, alpha=0.3, color=cmap(np.argmax(cvar, axis=1)))\n",
    "ax.set_xlim(0,150)\n",
    "ax.set_xlabel('mean')\n",
    "plt.show()"
   ]
  },
  {
   "cell_type": "code",
   "execution_count": null,
   "metadata": {},
   "outputs": [],
   "source": [
    "fig, ax = plt.subplots()\n",
    "ax.scatter(np.exp(grid_mu + 0.5*grid_sig**2).flatten(), (np.exp(2*grid_mu+grid_sig**2)*(np.exp(grid_sig**2)-1)).flatten(), s=5, alpha=1, color=cmap(np.argmax(cvar, axis=1)))\n",
    "ax.set_xlim(0,50)\n",
    "ax.set_ylim(0,50)\n",
    "ax.set_xlabel('mean')\n",
    "ax.set_ylabel('variance')\n",
    "plt.show()"
   ]
  },
  {
   "cell_type": "code",
   "execution_count": null,
   "metadata": {},
   "outputs": [],
   "source": [
    "np.vstack([np.exp(grid_mu + 0.5*grid_sig**2).flatten(), (np.exp(2*grid_mu+grid_sig**2)*(np.exp(grid_sig**2)-1)).flatten()]).shape"
   ]
  },
  {
   "cell_type": "code",
   "execution_count": null,
   "metadata": {},
   "outputs": [],
   "source": [
    "action.shape"
   ]
  },
  {
   "cell_type": "code",
   "execution_count": null,
   "metadata": {},
   "outputs": [],
   "source": [
    "import scipy.interpolate\n",
    "\n",
    "\n",
    "fig, ax = plt.subplots()\n",
    "xs, ys = np.mgrid[0:50:999j, 0:50:666j]\n",
    "resampled_action = scipy.interpolate.griddata((np.exp(grid_mu + 0.5*grid_sig**2).flatten(), (np.exp(2*grid_mu+grid_sig**2)*(np.exp(grid_sig**2)-1)).flatten()), action, (xs, ys) ,method='nearest')\n",
    "im = ax.pcolormesh(xs,ys,resampled_action, cmap=cmap,vmin=0, vmax=10)\n",
    "cbar = fig.colorbar(im, ax=ax, ticks=np.arange(0,11,1)+.5)\n",
    "cbar.set_ticklabels(['do nothing']+[f'replace {i:02d}' for i in range(1,11)])\n",
    "ax.set_xlabel('mean')\n",
    "ax.set_ylabel('variance')\n",
    "plt.show()"
   ]
  },
  {
   "cell_type": "code",
   "execution_count": null,
   "metadata": {},
   "outputs": [],
   "source": [
    "fig, ax = plt.subplots()\n",
    "mask = np.asarray(np.logical_and(np.exp(grid_mu + 0.5*grid_sig**2).flatten() <= 150, (np.exp(2*grid_mu+grid_sig**2)*(np.exp(grid_sig**2)-1)).flatten()<=100))\n",
    "pf = 0.5*(1+scipy.special.erf((np.log(10)-grid_mu)/(grid_sig*np.sqrt(2))))\n",
    "pf = pf.flatten()\n",
    "argcvar = np.argmax(cvar, axis=1)\n",
    "ax.hist([pf[np.logical_and(argcvar == i, mask)] for i in range(11)], density=True, bins=20, histtype='step', color=cmap([i for i in range(11)]), alpha=1, linewidth=2, zorder=3, label=['do nothing' if i==0 else f'replace {i:02d}' for i in range(11)])\n",
    "ax.hist([pf[np.logical_and(argcvar == i, mask)] for i in range(11)], density=True, bins=20, histtype='stepfilled', color=cmap([i for i in range(11)]), alpha=.3, zorder=2)\n",
    "ax.grid(zorder=1)\n",
    "cbar = fig.colorbar(mpl.cm.ScalarMappable(cmap=cmap), ax=ax, ticks=(np.arange(0,11,1)+.5)/11)\n",
    "cbar.set_ticklabels(['do nothing']+[f'replace {i:02d}' for i in range(1,11)])\n",
    "cbar.ax.set_title('Action', loc='left')\n",
    "ax.set_xlabel(r'$\\mathrm{Pr}(\\mathrm{RUL}\\leq 10)$')\n",
    "ax.set_ylabel('Frequency of action')\n",
    "plt.show()"
   ]
  },
  {
   "cell_type": "code",
   "execution_count": null,
   "metadata": {},
   "outputs": [],
   "source": []
  }
 ],
 "metadata": {
  "kernelspec": {
   "display_name": "py310",
   "language": "python",
   "name": "python3"
  },
  "language_info": {
   "codemirror_mode": {
    "name": "ipython",
    "version": 3
   },
   "file_extension": ".py",
   "mimetype": "text/x-python",
   "name": "python",
   "nbconvert_exporter": "python",
   "pygments_lexer": "ipython3",
   "version": "3.10.8"
  }
 },
 "nbformat": 4,
 "nbformat_minor": 2
}
